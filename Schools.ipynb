{
 "cells": [
  {
   "cell_type": "code",
   "execution_count": 123,
   "metadata": {},
   "outputs": [
    {
     "data": {
      "text/plain": [
       "True"
      ]
     },
     "execution_count": 123,
     "metadata": {},
     "output_type": "execute_result"
    }
   ],
   "source": [
    "import requests\n",
    "import os\n",
    "from dotenv import load_dotenv\n",
    "import pandas as pd\n",
    "import folium\n",
    "from pymongo import MongoClient\n",
    "import pymongo\n",
    "\n",
    "load_dotenv()"
   ]
  },
  {
   "cell_type": "code",
   "execution_count": 124,
   "metadata": {},
   "outputs": [],
   "source": [
    "# Python program to get a set of  \n",
    "# places according to your search  \n",
    "# query using Google Places API \n",
    "  \n",
    "# importing required modules \n",
    "import requests, json \n",
    "  \n",
    "# enter your api key here \n",
    "api_key = os.getenv(\"GOOGLE_TOKEN\")\n",
    "  \n",
    "# url variable store url \n",
    "url = \"https://maps.googleapis.com/maps/api/place/textsearch/json?\"\n",
    "  \n",
    "# The text string on which to search \n",
    "query = 'Schools New York' \n",
    " \n",
    "# get method of requests module \n",
    "# return response object \n",
    "r = requests.get(url + 'query=' + query +\n",
    "                        '&key=' + api_key) \n",
    "  \n",
    "# json method of response object convert \n",
    "#  json format data into python format data \n",
    "x = r.json() \n",
    "  \n",
    "# now x contains list of nested dictionaries \n",
    "# we know dictionary contain key value pair \n",
    "# store the value of result key in variable y \n",
    "y = x['results'] \n",
    "  \n",
    "# keep looping upto lenght of y \n",
    "\n",
    "schools_ny=[]\n",
    "for i in range(len(y)): \n",
    "      \n",
    "    # Print value corresponding to the \n",
    "    # 'name' key at the ith index of y \n",
    "    schools_ny.append(( y[i]))\n"
   ]
  },
  {
   "cell_type": "code",
   "execution_count": 125,
   "metadata": {},
   "outputs": [
    {
     "name": "stdout",
     "output_type": "stream",
     "text": [
      "{'formatted_address': '1026 5th Ave, New York, NY 10028, United States', 'geometry': {'location': {'lat': 40.7799655, 'lng': -73.96136820000001}, 'viewport': {'northeast': {'lat': 40.78134717989272, 'lng': -73.96009237010726}, 'southwest': {'lat': 40.77864752010728, 'lng': -73.96279202989271}}}, 'icon': 'https://maps.gstatic.com/mapfiles/place_api/icons/school-71.png', 'id': '287dc98908e8760c257241e97566f419313dc042', 'name': 'Marymount School of New York', 'photos': [{'height': 4032, 'html_attributions': ['<a href=\"https://maps.google.com/maps/contrib/115481102779579419248/photos\">Joseph Youssef</a>'], 'photo_reference': 'CmRaAAAAnHAdtP2WCLTsLW_cDcRCIMbzi7KL-BG2uj7evgSMhTDFXkT-PR4hPw-GMFtl-NAYkObFRaYvhMmPfV6hZ0iIM-clM6CJ_EG_2vz_t_zLCX39vvnAkMtTaJkPOsslzMnlEhDT7i_GE9RsvjK1NA55WQabGhSnvL0kF0i7JTDF4Z3q3vY0vO6zsA', 'width': 3024}], 'place_id': 'ChIJHwjkuZdYwokRsFfcPewQPu4', 'plus_code': {'compound_code': 'Q2HQ+XF New York, United States', 'global_code': '87G8Q2HQ+XF'}, 'rating': 4.4, 'reference': 'ChIJHwjkuZdYwokRsFfcPewQPu4', 'types': ['school', 'point_of_interest', 'establishment'], 'user_ratings_total': 14}\n",
      "\n",
      "dict_keys(['formatted_address', 'geometry', 'icon', 'id', 'name', 'photos', 'place_id', 'plus_code', 'rating', 'reference', 'types', 'user_ratings_total'])\n"
     ]
    }
   ],
   "source": [
    "print(schools_ny[0])\n",
    "\n",
    "print()\n",
    "\n",
    "print(schools_ny[0].keys())"
   ]
  },
  {
   "cell_type": "code",
   "execution_count": 126,
   "metadata": {},
   "outputs": [],
   "source": [
    "def deleting_keys(json,lst_keys_no_req):\n",
    "    for i in range(len(json)):\n",
    "        for e in lst_keys_no_req:\n",
    "            if e in json[i]:\n",
    "                del json[i][e]\n",
    "    return json\n"
   ]
  },
  {
   "cell_type": "code",
   "execution_count": 127,
   "metadata": {},
   "outputs": [],
   "source": [
    "not_req_info=['icon', 'opening_hours', 'photos', 'place_id',\n",
    "                'plus_code', 'rating', 'reference', 'types', 'user_ratings_total']"
   ]
  },
  {
   "cell_type": "code",
   "execution_count": 128,
   "metadata": {},
   "outputs": [
    {
     "name": "stdout",
     "output_type": "stream",
     "text": [
      "{'formatted_address': '20 Waterside Plaza, New York, NY 10010, United States', 'geometry': {'location': {'lat': 40.7368052, 'lng': -73.97288189999999}, 'viewport': {'northeast': {'lat': 40.73840887989272, 'lng': -73.97213542010728}, 'southwest': {'lat': 40.73570922010727, 'lng': -73.97483507989273}}}, 'id': 'f4718a0bfc73fb78dbb354516cd5f8bc4a633ff1', 'name': 'The British International School of New York'}\n"
     ]
    }
   ],
   "source": [
    "schools_ny=deleting_keys(schools_ny,not_req_info)\n",
    "\n",
    "print(starbucks_ny[0])"
   ]
  },
  {
   "cell_type": "code",
   "execution_count": 129,
   "metadata": {},
   "outputs": [],
   "source": [
    "def getLocation(lst):\n",
    "    for i in range(len(lst)):\n",
    "        longitude = lst[i]['geometry']['location']['lng']\n",
    "        latitude = lst[i]['geometry']['location']['lat']\n",
    "        loc = {\n",
    "            'type':'Point',\n",
    "            'coordinates':[latitude,longitude]\n",
    "        }\n",
    "        lst[i]['loc']=loc\n",
    "\n",
    "    return lst"
   ]
  },
  {
   "cell_type": "code",
   "execution_count": 130,
   "metadata": {},
   "outputs": [],
   "source": [
    "schools_ny=getLocation(schools_ny)"
   ]
  },
  {
   "cell_type": "code",
   "execution_count": 131,
   "metadata": {},
   "outputs": [
    {
     "data": {
      "text/html": [
       "<div>\n",
       "<style scoped>\n",
       "    .dataframe tbody tr th:only-of-type {\n",
       "        vertical-align: middle;\n",
       "    }\n",
       "\n",
       "    .dataframe tbody tr th {\n",
       "        vertical-align: top;\n",
       "    }\n",
       "\n",
       "    .dataframe thead th {\n",
       "        text-align: right;\n",
       "    }\n",
       "</style>\n",
       "<table border=\"1\" class=\"dataframe\">\n",
       "  <thead>\n",
       "    <tr style=\"text-align: right;\">\n",
       "      <th></th>\n",
       "      <th>formatted_address</th>\n",
       "      <th>geometry</th>\n",
       "      <th>id</th>\n",
       "      <th>name</th>\n",
       "      <th>loc</th>\n",
       "      <th>Category</th>\n",
       "    </tr>\n",
       "  </thead>\n",
       "  <tbody>\n",
       "    <tr>\n",
       "      <th>0</th>\n",
       "      <td>1026 5th Ave, New York, NY 10028, United States</td>\n",
       "      <td>{'location': {'lat': 40.7799655, 'lng': -73.96...</td>\n",
       "      <td>287dc98908e8760c257241e97566f419313dc042</td>\n",
       "      <td>Marymount School of New York</td>\n",
       "      <td>{'type': 'Point', 'coordinates': [40.7799655, ...</td>\n",
       "      <td>Starbucks</td>\n",
       "    </tr>\n",
       "    <tr>\n",
       "      <th>1</th>\n",
       "      <td>20 Waterside Plaza, New York, NY 10010, United...</td>\n",
       "      <td>{'location': {'lat': 40.7368052, 'lng': -73.97...</td>\n",
       "      <td>f4718a0bfc73fb78dbb354516cd5f8bc4a633ff1</td>\n",
       "      <td>The British International School of New York</td>\n",
       "      <td>{'type': 'Point', 'coordinates': [40.7368052, ...</td>\n",
       "      <td>Starbucks</td>\n",
       "    </tr>\n",
       "    <tr>\n",
       "      <th>2</th>\n",
       "      <td>1665 St Marks Ave, Brooklyn, NY 11233, United ...</td>\n",
       "      <td>{'location': {'lat': 40.6733846, 'lng': -73.91...</td>\n",
       "      <td>c00ef27f6fce06eb83d14034a54568b160afa8fa</td>\n",
       "      <td>New York City School District Office</td>\n",
       "      <td>{'type': 'Point', 'coordinates': [40.6733846, ...</td>\n",
       "      <td>Starbucks</td>\n",
       "    </tr>\n",
       "    <tr>\n",
       "      <th>3</th>\n",
       "      <td>44 E 2nd St, New York, NY 10003, United States</td>\n",
       "      <td>{'location': {'lat': 40.7248751, 'lng': -73.98...</td>\n",
       "      <td>12ce6ecd42e708aea41cb942c35cb59b938a585a</td>\n",
       "      <td>Nord Anglia International School, New York</td>\n",
       "      <td>{'type': 'Point', 'coordinates': [40.7248751, ...</td>\n",
       "      <td>Starbucks</td>\n",
       "    </tr>\n",
       "    <tr>\n",
       "      <th>4</th>\n",
       "      <td>345 Chambers St, New York, NY 10282, United St...</td>\n",
       "      <td>{'location': {'lat': 40.7177577, 'lng': -74.01...</td>\n",
       "      <td>7ba09b3c5a39799342b9e024f869a499feab17ed</td>\n",
       "      <td>Stuyvesant High School</td>\n",
       "      <td>{'type': 'Point', 'coordinates': [40.7177577, ...</td>\n",
       "      <td>Starbucks</td>\n",
       "    </tr>\n",
       "  </tbody>\n",
       "</table>\n",
       "</div>"
      ],
      "text/plain": [
       "                                   formatted_address  \\\n",
       "0    1026 5th Ave, New York, NY 10028, United States   \n",
       "1  20 Waterside Plaza, New York, NY 10010, United...   \n",
       "2  1665 St Marks Ave, Brooklyn, NY 11233, United ...   \n",
       "3     44 E 2nd St, New York, NY 10003, United States   \n",
       "4  345 Chambers St, New York, NY 10282, United St...   \n",
       "\n",
       "                                            geometry  \\\n",
       "0  {'location': {'lat': 40.7799655, 'lng': -73.96...   \n",
       "1  {'location': {'lat': 40.7368052, 'lng': -73.97...   \n",
       "2  {'location': {'lat': 40.6733846, 'lng': -73.91...   \n",
       "3  {'location': {'lat': 40.7248751, 'lng': -73.98...   \n",
       "4  {'location': {'lat': 40.7177577, 'lng': -74.01...   \n",
       "\n",
       "                                         id  \\\n",
       "0  287dc98908e8760c257241e97566f419313dc042   \n",
       "1  f4718a0bfc73fb78dbb354516cd5f8bc4a633ff1   \n",
       "2  c00ef27f6fce06eb83d14034a54568b160afa8fa   \n",
       "3  12ce6ecd42e708aea41cb942c35cb59b938a585a   \n",
       "4  7ba09b3c5a39799342b9e024f869a499feab17ed   \n",
       "\n",
       "                                           name  \\\n",
       "0                  Marymount School of New York   \n",
       "1  The British International School of New York   \n",
       "2          New York City School District Office   \n",
       "3    Nord Anglia International School, New York   \n",
       "4                        Stuyvesant High School   \n",
       "\n",
       "                                                 loc   Category  \n",
       "0  {'type': 'Point', 'coordinates': [40.7799655, ...  Starbucks  \n",
       "1  {'type': 'Point', 'coordinates': [40.7368052, ...  Starbucks  \n",
       "2  {'type': 'Point', 'coordinates': [40.6733846, ...  Starbucks  \n",
       "3  {'type': 'Point', 'coordinates': [40.7248751, ...  Starbucks  \n",
       "4  {'type': 'Point', 'coordinates': [40.7177577, ...  Starbucks  "
      ]
     },
     "execution_count": 131,
     "metadata": {},
     "output_type": "execute_result"
    }
   ],
   "source": [
    "schools_df=pd.DataFrame(schools_ny)\n",
    "\n",
    "schools_df['Category']='Starbucks'\n",
    "\n",
    "schools_df.head()"
   ]
  },
  {
   "cell_type": "code",
   "execution_count": 132,
   "metadata": {},
   "outputs": [
    {
     "data": {
      "text/html": [
       "<div>\n",
       "<style scoped>\n",
       "    .dataframe tbody tr th:only-of-type {\n",
       "        vertical-align: middle;\n",
       "    }\n",
       "\n",
       "    .dataframe tbody tr th {\n",
       "        vertical-align: top;\n",
       "    }\n",
       "\n",
       "    .dataframe thead th {\n",
       "        text-align: right;\n",
       "    }\n",
       "</style>\n",
       "<table border=\"1\" class=\"dataframe\">\n",
       "  <thead>\n",
       "    <tr style=\"text-align: right;\">\n",
       "      <th></th>\n",
       "      <th>formatted_address</th>\n",
       "      <th>id</th>\n",
       "      <th>name</th>\n",
       "      <th>loc</th>\n",
       "      <th>Category</th>\n",
       "    </tr>\n",
       "  </thead>\n",
       "  <tbody>\n",
       "    <tr>\n",
       "      <th>0</th>\n",
       "      <td>1026 5th Ave, New York, NY 10028, United States</td>\n",
       "      <td>287dc98908e8760c257241e97566f419313dc042</td>\n",
       "      <td>Marymount School of New York</td>\n",
       "      <td>{'type': 'Point', 'coordinates': [40.7799655, ...</td>\n",
       "      <td>Starbucks</td>\n",
       "    </tr>\n",
       "  </tbody>\n",
       "</table>\n",
       "</div>"
      ],
      "text/plain": [
       "                                 formatted_address  \\\n",
       "0  1026 5th Ave, New York, NY 10028, United States   \n",
       "\n",
       "                                         id                          name  \\\n",
       "0  287dc98908e8760c257241e97566f419313dc042  Marymount School of New York   \n",
       "\n",
       "                                                 loc   Category  \n",
       "0  {'type': 'Point', 'coordinates': [40.7799655, ...  Starbucks  "
      ]
     },
     "execution_count": 132,
     "metadata": {},
     "output_type": "execute_result"
    }
   ],
   "source": [
    "schools_df=schools_df.drop(['geometry'],axis=1)\n",
    "\n",
    "schools_df.head(1)"
   ]
  },
  {
   "cell_type": "code",
   "execution_count": 134,
   "metadata": {},
   "outputs": [],
   "source": [
    "schools_df.to_json(\"schools_ny.json\",orient='records')\n",
    "#mongoimport --db companies --collection schools --jsonArray  schools.json"
   ]
  }
 ],
 "metadata": {
  "kernelspec": {
   "display_name": "Python 3",
   "language": "python",
   "name": "python3"
  },
  "language_info": {
   "codemirror_mode": {
    "name": "ipython",
    "version": 3
   },
   "file_extension": ".py",
   "mimetype": "text/x-python",
   "name": "python",
   "nbconvert_exporter": "python",
   "pygments_lexer": "ipython3",
   "version": "3.7.5rc1"
  }
 },
 "nbformat": 4,
 "nbformat_minor": 2
}

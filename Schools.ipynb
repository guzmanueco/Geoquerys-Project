{
 "cells": [
  {
   "cell_type": "code",
   "execution_count": 1,
   "metadata": {},
   "outputs": [],
   "source": [
    "from pymongo import MongoClient\n",
    "import pandas as pd\n",
    "import ProjectFunctions.google_api_function\n",
    "from ProjectFunctions.google_api_function import api_request\n",
    "from ProjectFunctions.cleaning_functions import deleting_keys\n",
    "from ProjectFunctions.getLocation import getLocation"
   ]
  },
  {
   "cell_type": "code",
   "execution_count": 2,
   "metadata": {},
   "outputs": [
    {
     "name": "stdout",
     "output_type": "stream",
     "text": [
      "{'html_attributions': [], 'next_page_token': 'CoQC_wAAADdKzbhL0ieWq7zhS4YfcavvzJQehAKjSigqFk_QMZ1g5s1zOUhuS7g6KPeHP1X2PBIzRnkYEJdDyt6FajFX5IiFjFik1XrBHiHkuXDgHrJ_7KV1tYP-TA5xNzzI-Qz7SVH4HH5dXgh1dvyg6VxC_p_cnuF6BEBeHu7eUZO6i_wmSG7-g6M7hEaiIDdoDnYe76h9D81ETGM3SVHhTMf9k-H04pPbT5HzSpL7TwNJoYnaW8OSKvtPXhEZAzVXEBWbGq2y1MJtEgjJhu6VxzSI_MjHyRIzn48Q172vI6QdcF4-_AJhcdN5vtDsuNG6QdzL7bsStxLptHvJ1Ay25UDtO1ISEJCdoVAvHF6TpZ8Tr85UOicaFFdpBSC09ppEr7jF4fughUBunCJF', 'results': [{'formatted_address': '1026 5th Ave, New York, NY 10028, United States', 'geometry': {'location': {'lat': 40.7799655, 'lng': -73.96136820000001}, 'viewport': {'northeast': {'lat': 40.78134717989272, 'lng': -73.96009237010726}, 'southwest': {'lat': 40.77864752010728, 'lng': -73.96279202989271}}}, 'icon': 'https://maps.gstatic.com/mapfiles/place_api/icons/school-71.png', 'id': '287dc98908e8760c257241e97566f419313dc042', 'name': 'Marymount School of New York', 'photos': [{'height': 4032, 'html_attributions': ['<a href=\"https://maps.google.com/maps/contrib/115481102779579419248/photos\">Joseph Youssef</a>'], 'photo_reference': 'CmRaAAAAe73YRGXvkncjb3hQzoitI4w8DsigMA9npUj6nZQCqdnQ15J_E_fefpbGQdNNn-wAA1jx475ev2ixMh57EbEAg9P7tF7fywnc3Afj3fuRImkEDk3YezXC57_jP5sq7qATEhBo08NzS6PIPers-GW9HYDAGhQkoJ-UdjM1K5MQclPgZBpIQNifsQ', 'width': 3024}], 'place_id': 'ChIJHwjkuZdYwokRsFfcPewQPu4', 'plus_code': {'compound_code': 'Q2HQ+XF New York, United States', 'global_code': '87G8Q2HQ+XF'}, 'rating': 4.4, 'reference': 'ChIJHwjkuZdYwokRsFfcPewQPu4', 'types': ['school', 'point_of_interest', 'establishment'], 'user_ratings_total': 14}, {'formatted_address': '20 Waterside Plaza, New York, NY 10010, United States', 'geometry': {'location': {'lat': 40.7368052, 'lng': -73.97288189999999}, 'viewport': {'northeast': {'lat': 40.73840887989272, 'lng': -73.97213542010728}, 'southwest': {'lat': 40.73570922010727, 'lng': -73.97483507989273}}}, 'icon': 'https://maps.gstatic.com/mapfiles/place_api/icons/school-71.png', 'id': 'f4718a0bfc73fb78dbb354516cd5f8bc4a633ff1', 'name': 'The British International School of New York', 'opening_hours': {'open_now': True}, 'photos': [{'height': 1394, 'html_attributions': ['<a href=\"https://maps.google.com/maps/contrib/100634330325753508102/photos\">The British International School of New York</a>'], 'photo_reference': 'CmRaAAAAetBCzzAqJgkChu3Bio4_mVLaGoqGm65G6dDLkpTg5tP6rC4mINTr_ibtG53_flQ-54XG2ie8KyExTTg8FnURJVXFm9se6V6EP_gzO6naruiTIdhntgckE0ueHZe58f-zEhDEHc9LOv9jElhavAAtbCSKGhRyeNdFRlQOt0JF2xSoqoasUleq9A', 'width': 2048}], 'place_id': 'ChIJHyg-og1ZwokRT26Ox52XZaY', 'plus_code': {'compound_code': 'P2PG+PR New York, United States', 'global_code': '87G8P2PG+PR'}, 'rating': 4.5, 'reference': 'ChIJHyg-og1ZwokRT26Ox52XZaY', 'types': ['school', 'point_of_interest', 'establishment'], 'user_ratings_total': 18}, {'formatted_address': '1665 St Marks Ave, Brooklyn, NY 11233, United States', 'geometry': {'location': {'lat': 40.6733846, 'lng': -73.9119427}, 'viewport': {'northeast': {'lat': 40.67461297989271, 'lng': -73.91060352010727}, 'southwest': {'lat': 40.67191332010727, 'lng': -73.91330317989272}}}, 'icon': 'https://maps.gstatic.com/mapfiles/place_api/icons/school-71.png', 'id': 'c00ef27f6fce06eb83d14034a54568b160afa8fa', 'name': 'New York City School District Office', 'place_id': 'ChIJd5vCnF1cwokRQUI-UOrfYXs', 'plus_code': {'compound_code': 'M3FQ+96 New York, United States', 'global_code': '87G8M3FQ+96'}, 'rating': 0, 'reference': 'ChIJd5vCnF1cwokRQUI-UOrfYXs', 'types': ['school', 'point_of_interest', 'establishment'], 'user_ratings_total': 0}, {'formatted_address': '44 E 2nd St, New York, NY 10003, United States', 'geometry': {'location': {'lat': 40.7248751, 'lng': -73.9896579}, 'viewport': {'northeast': {'lat': 40.72613207989272, 'lng': -73.98837557010728}, 'southwest': {'lat': 40.72343242010727, 'lng': -73.99107522989273}}}, 'icon': 'https://maps.gstatic.com/mapfiles/place_api/icons/school-71.png', 'id': '12ce6ecd42e708aea41cb942c35cb59b938a585a', 'name': 'Nord Anglia International School, New York', 'opening_hours': {'open_now': True}, 'photos': [{'height': 531, 'html_attributions': ['<a href=\"https://maps.google.com/maps/contrib/109350419317786608847/photos\">Nord Anglia International School, New York</a>'], 'photo_reference': 'CmRaAAAAjrLZ9RdURlO5TqZmrAxXa8CdmlCk9yMn_4E2vNQhJfmXBoDbdgUa9ajXoOdNj__4N3SvPWtSAvufoZQTMkCaOTAlG-NIUp03NSe5t0thRJtP70P1EAReODfyFdtvMWR0EhAcAcxNcW8C8mFg5K3X4WmDGhRT9S52egcUJt0187XliPNA7TloSA', 'width': 800}], 'place_id': 'ChIJY4RSkIRZwokRuPrsC-vnZZM', 'plus_code': {'compound_code': 'P2F6+X4 New York, United States', 'global_code': '87G8P2F6+X4'}, 'rating': 4.9, 'reference': 'ChIJY4RSkIRZwokRuPrsC-vnZZM', 'types': ['primary_school', 'secondary_school', 'school', 'point_of_interest', 'establishment'], 'user_ratings_total': 10}, {'formatted_address': '345 Chambers St, New York, NY 10282, United States', 'geometry': {'location': {'lat': 40.7177577, 'lng': -74.0138644}, 'viewport': {'northeast': {'lat': 40.71940237989271, 'lng': -74.01202894999999}, 'southwest': {'lat': 40.71670272010727, 'lng': -74.01503195000001}}}, 'icon': 'https://maps.gstatic.com/mapfiles/place_api/icons/school-71.png', 'id': '7ba09b3c5a39799342b9e024f869a499feab17ed', 'name': 'Stuyvesant High School', 'photos': [{'height': 3024, 'html_attributions': ['<a href=\"https://maps.google.com/maps/contrib/115035884585594318073/photos\">A Google User</a>'], 'photo_reference': 'CmRaAAAAzPFN597rU9xQmC1Jpad2uaeoIQAogsbuJ1osMmAKUlozIqgHn8w6UzKpM1V9Vst4zRhC_O_NX01ezyJE4n38ZmT5CpPa5DkwXAMAmDUKNZqx_95ycEIKm7qVWRdYRlNtEhChljzpKl-I_LqVYWBwsFHAGhRBa_s3Gj2uzy4aoETksIx52xAtRA', 'width': 4032}], 'place_id': 'ChIJybj4tR1awokR-UY_aABFCLU', 'plus_code': {'compound_code': 'PX9P+4F New York, United States', 'global_code': '87G7PX9P+4F'}, 'rating': 4.3, 'reference': 'ChIJybj4tR1awokR-UY_aABFCLU', 'types': ['secondary_school', 'school', 'point_of_interest', 'establishment'], 'user_ratings_total': 223}, {'formatted_address': '550 Short Ave, New York, NY 10004, United States', 'geometry': {'location': {'lat': 40.6907613, 'lng': -74.0204085}, 'viewport': {'northeast': {'lat': 40.69219107989272, 'lng': -74.01955642010728}, 'southwest': {'lat': 40.68949142010728, 'lng': -74.02225607989273}}}, 'icon': 'https://maps.gstatic.com/mapfiles/place_api/icons/school-71.png', 'id': '5ed8ae2e23be4128fa92b8a38ec66f122bdea4c6', 'name': 'New York Harbor School', 'photos': [{'height': 2592, 'html_attributions': ['<a href=\"https://maps.google.com/maps/contrib/105529754943786690948/photos\">Jack Li</a>'], 'photo_reference': 'CmRaAAAAWgwlooUZH1mEDReqZx5-SFk6eWNwFXxhWYFB5apybOfmfI6QzNwi6pp0Ld2cUeb_-2U2gnoRwh--awB6q1RfMsPCOu1wUHEVs1wPdOf8kOwP61AmbilHNCPSp9YfsZfbEhAw9DS1VaX1oocVzBMHVdJEGhSHTNuJu7kuegY9sU4g2f7VwD9f_g', 'width': 4608}], 'place_id': 'ChIJsT_q8npawokRbtvOpXBf7pA', 'plus_code': {'compound_code': 'MXRH+8R New York, United States', 'global_code': '87G7MXRH+8R'}, 'rating': 3.8, 'reference': 'ChIJsT_q8npawokRbtvOpXBf7pA', 'types': ['school', 'point_of_interest', 'establishment'], 'user_ratings_total': 47}, {'formatted_address': '139 W 91st St, New York, NY 10024, United States', 'geometry': {'location': {'lat': 40.7905327, 'lng': -73.9712986}, 'viewport': {'northeast': {'lat': 40.79178592989273, 'lng': -73.97001932010727}, 'southwest': {'lat': 40.78908627010728, 'lng': -73.97271897989272}}}, 'icon': 'https://maps.gstatic.com/mapfiles/place_api/icons/school-71.png', 'id': 'f5ac1c904582d45cad485f7a786b65feef904604', 'name': 'Trinity School', 'photos': [{'height': 998, 'html_attributions': ['<a href=\"https://maps.google.com/maps/contrib/103102886363828088514/photos\">Josh Cuppek</a>'], 'photo_reference': 'CmRaAAAAUZsidMpmOUtcsz4OwvMqK8Og-xyOP9fA6RmatL_zLw-7303ZXcs5wDxWIEyq68kYJjHb9BLL9Itkt4Q-pbezWy_LWZ9moF2oDf3jLSHunYlFg-I0Yx526-c2tD-HA72aEhBwI3_BRS_OEoMEmc9-a18YGhSqXuFkGusF3pkyGnJr_JOfyy5lkg', 'width': 1500}], 'place_id': 'ChIJ5SmDKoNYwokRCkbkokC1bdg', 'plus_code': {'compound_code': 'Q2RH+6F New York, United States', 'global_code': '87G8Q2RH+6F'}, 'rating': 4, 'reference': 'ChIJ5SmDKoNYwokRCkbkokC1bdg', 'types': ['school', 'point_of_interest', 'establishment'], 'user_ratings_total': 27}, {'formatted_address': '108 E 89th St, New York, NY 10128, United States', 'geometry': {'location': {'lat': 40.781585, 'lng': -73.95508699999999}, 'viewport': {'northeast': {'lat': 40.78302057989272, 'lng': -73.95367402010727}, 'southwest': {'lat': 40.78032092010728, 'lng': -73.9563736798927}}}, 'icon': 'https://maps.gstatic.com/mapfiles/place_api/icons/school-71.png', 'id': 'a25d6a120d424a43629097652f291a70229d928f', 'name': 'The Dalton School', 'photos': [{'height': 940, 'html_attributions': ['<a href=\"https://maps.google.com/maps/contrib/100522807536476145421/photos\">The Dalton School</a>'], 'photo_reference': 'CmRaAAAANuR-yKyEYN-Cm0uzAn-NEVWwtezlBSvdBxtaA5Vf7yRNkPOFtk8SmaFZbqmb_d70pAoUNWJX5IxUHAiIKE00yxC7QxGGTpT-skHm-gyKQiRFRMwawhjMxoHHZVIzsuEwEhANwODbSnhcEL9aQIdgqdBkGhQ_hsY5hhwR8QYbWMPZM6maRsB0Uw', 'width': 941}], 'place_id': 'ChIJu955R6NYwokRX3iaD_1NVcE', 'plus_code': {'compound_code': 'Q2JV+JX New York, United States', 'global_code': '87G8Q2JV+JX'}, 'rating': 4.3, 'reference': 'ChIJu955R6NYwokRX3iaD_1NVcE', 'types': ['school', 'secondary_school', 'point_of_interest', 'establishment'], 'user_ratings_total': 37}, {'formatted_address': '333 7th Ave #7, New York, NY 10001, United States', 'geometry': {'location': {'lat': 40.7474253, 'lng': -73.9929049}, 'viewport': {'northeast': {'lat': 40.74882697989273, 'lng': -73.99168077010728}, 'southwest': {'lat': 40.74612732010728, 'lng': -73.99438042989271}}}, 'icon': 'https://maps.gstatic.com/mapfiles/place_api/icons/school-71.png', 'id': '680f287cfc530fe7a697aea4b88fdb68f5bf482b', 'name': 'New York City Board-Education', 'place_id': 'ChIJx6sMka9ZwokRtMQXlZXf9js', 'plus_code': {'compound_code': 'P2W4+XR New York, United States', 'global_code': '87G8P2W4+XR'}, 'rating': 4.2, 'reference': 'ChIJx6sMka9ZwokRtMQXlZXf9js', 'types': ['school', 'point_of_interest', 'establishment'], 'user_ratings_total': 5}, {'formatted_address': '301 Freedom Pl S, New York, NY 10069, United States', 'geometry': {'location': {'lat': 40.7737541, 'lng': -73.99068}, 'viewport': {'northeast': {'lat': 40.77508487989272, 'lng': -73.98916507010728}, 'southwest': {'lat': 40.77238522010728, 'lng': -73.99186472989271}}}, 'icon': 'https://maps.gstatic.com/mapfiles/place_api/icons/school-71.png', 'id': '87d428e3e6c74107f9bcc5888f102fd6bb466c16', 'name': 'Collegiate School', 'photos': [{'height': 1365, 'html_attributions': ['<a href=\"https://maps.google.com/maps/contrib/108169731549683204294/photos\">A Google User</a>'], 'photo_reference': 'CmRaAAAAsE3da1qkV3e_EQ72D54nQKE9qesPt-SkeGv7TBfvheVSnIuSq36pDu_i_0kX0wTuWBBMlnQ8vFIuItZDbvDKZImCm_yvqGPIYeGwsmOmOcGukmNGcU7TIcaMmDQEg0niEhByQCqVG_GK2eDf2LWBL9C5GhRmrMe1biPstA20PJfiRFQpUH2csg', 'width': 2048}], 'place_id': 'ChIJE7HPa4hYwokRvy6pmFLDwpc', 'plus_code': {'compound_code': 'Q2F5+GP New York, United States', 'global_code': '87G8Q2F5+GP'}, 'rating': 3.9, 'reference': 'ChIJE7HPa4hYwokRvy6pmFLDwpc', 'types': ['school', 'point_of_interest', 'establishment'], 'user_ratings_total': 16}, {'formatted_address': '22 E 91st St, New York, NY 10128, United States', 'geometry': {'location': {'lat': 40.7840468, 'lng': -73.95709149999999}, 'viewport': {'northeast': {'lat': 40.78549897989271, 'lng': -73.95566772010727}, 'southwest': {'lat': 40.78279932010727, 'lng': -73.95836737989272}}}, 'icon': 'https://maps.gstatic.com/mapfiles/place_api/icons/school-71.png', 'id': '13790fe161c5362975d582d429315bd32633cfe1', 'name': 'The Spence School', 'photos': [{'height': 1500, 'html_attributions': ['<a href=\"https://maps.google.com/maps/contrib/103102886363828088514/photos\">Josh Cuppek</a>'], 'photo_reference': 'CmRaAAAAaUip4jXVX4KnFL4_47HgAjNUAjN1GQmw0bWR9-kKg720BjcRE1xyW3wfn3sVJ99Onz8AfcTpEo6HU1Tkx86YExQV3mU2XktjGZcHLt0YyDMJVrzY3SzuWpXmXlQoZzkGEhC2IxMbvtyP8kxfCUnj6oWqGhT0VglXRgrfC8ZjkB_PZzzC99lcuA', 'width': 998}], 'place_id': 'ChIJm_GuWaJYwokRZHQuAks2YeE', 'plus_code': {'compound_code': 'Q2MV+J5 New York, United States', 'global_code': '87G8Q2MV+J5'}, 'rating': 4.6, 'reference': 'ChIJm_GuWaJYwokRZHQuAks2YeE', 'types': ['school', 'primary_school', 'secondary_school', 'point_of_interest', 'establishment'], 'user_ratings_total': 11}, {'formatted_address': '610 E 83rd St, New York, NY 10028, United States', 'geometry': {'location': {'lat': 40.7724795, 'lng': -73.94543089999999}, 'viewport': {'northeast': {'lat': 40.77392682989272, 'lng': -73.94410997010728}, 'southwest': {'lat': 40.77122717010728, 'lng': -73.94680962989271}}}, 'icon': 'https://maps.gstatic.com/mapfiles/place_api/icons/school-71.png', 'id': '3428ce994aed55d9a023adc138ab0c3b6a3b87ad', 'name': 'Brearley School', 'photos': [{'height': 2160, 'html_attributions': ['<a href=\"https://maps.google.com/maps/contrib/105928811308006518314/photos\">Minh T. Nguyen</a>'], 'photo_reference': 'CmRaAAAABGCUAU9mXgaXjW5tMsG6C2-owYtp3JfV2JsPu5-ZQvUt7k1QNrpHZENs3xHZZfNEIvEC9R_EqLTvPuhEnVVZIc5SB1JYIB_wjIb4qhY_hzK98qAVczS5ZGA4SIJ9_Q4lEhA_Ih9Dy7gfMLo9J4ayjEVcGhS8p7DOdrYcvT1jL8oCE3ffAKlmuA', 'width': 3840}], 'place_id': 'ChIJhWcua7dYwokRzfUuk-MTtHA', 'plus_code': {'compound_code': 'Q3C3+XR New York, United States', 'global_code': '87G8Q3C3+XR'}, 'rating': 4.7, 'reference': 'ChIJhWcua7dYwokRzfUuk-MTtHA', 'types': ['secondary_school', 'school', 'point_of_interest', 'establishment'], 'user_ratings_total': 15}, {'formatted_address': '100 East End Ave, New York, NY 10028, United States', 'geometry': {'location': {'lat': 40.7739978, 'lng': -73.9460843}, 'viewport': {'northeast': {'lat': 40.77526052989271, 'lng': -73.94448937010728}, 'southwest': {'lat': 40.77256087010727, 'lng': -73.94718902989273}}}, 'icon': 'https://maps.gstatic.com/mapfiles/place_api/icons/school-71.png', 'id': 'b614e88a84029ed1ce0dd1c8d1dffb62ad748084', 'name': 'The Chapin School', 'photos': [{'height': 998, 'html_attributions': ['<a href=\"https://maps.google.com/maps/contrib/103102886363828088514/photos\">Josh Cuppek</a>'], 'photo_reference': 'CmRaAAAAwA0ESqAu7pkJMRnTZhhnPIijqcB17D0ULt62G3mcgiA5viTnA7U8k2q47-VqMSS1pMwObwAizPl7AEfbV19Spj08U02LIJX72AJO0YGHLwUM1OIUtFKfv4HFRj_HKvzIEhBy0K81Q54DceqCThckvEC8GhSBwetcoYkBpll9pQrtwU6NPU_fqw', 'width': 1500}], 'place_id': 'ChIJsROnN7dYwokRJUsgWs0ax1M', 'plus_code': {'compound_code': 'Q3F3+HH New York, United States', 'global_code': '87G8Q3F3+HH'}, 'rating': 3.9, 'reference': 'ChIJsROnN7dYwokRJUsgWs0ax1M', 'types': ['school', 'primary_school', 'secondary_school', 'point_of_interest', 'establishment'], 'user_ratings_total': 15}, {'formatted_address': '259 10th Ave, New York, NY 10001, United States', 'geometry': {'location': {'lat': 40.74959399999999, 'lng': -74.00325}, 'viewport': {'northeast': {'lat': 40.75081797989272, 'lng': -74.00176762010727}, 'southwest': {'lat': 40.74811832010728, 'lng': -74.00446727989271}}}, 'icon': 'https://maps.gstatic.com/mapfiles/place_api/icons/school-71.png', 'id': '08ac7b73f5ad6d82627193db724f643702f8329d', 'name': 'Avenues: The World School', 'opening_hours': {'open_now': True}, 'photos': [{'height': 768, 'html_attributions': ['<a href=\"https://maps.google.com/maps/contrib/112236979784968813241/photos\">A Google User</a>'], 'photo_reference': 'CmRaAAAA2cUBkaW91aX38-Fx9_4gCyVZJjXV3geX8iD0Ns8sN9AA2e-OuXJ7Zh8dPAjLO1wBoFQCMY0uL04yyaXVAENo2UqjXmJe5u1nC2O3uISK7WBe3MPOyd4bhqw6le_V4xJfEhAWCerHrPJ3Qx9ZUbkqKVQOGhTaHc6KBopzvkT1DIm0CiZLYzovUg', 'width': 1152}], 'place_id': 'ChIJO_9wC7dZwokRSwEKMNrKlhQ', 'plus_code': {'compound_code': 'PXXW+RP New York, United States', 'global_code': '87G7PXXW+RP'}, 'rating': 3.7, 'reference': 'ChIJO_9wC7dZwokRSwEKMNrKlhQ', 'types': ['school', 'point_of_interest', 'establishment'], 'user_ratings_total': 41}, {'formatted_address': '5 W 93rd St, New York, NY 10025, United States', 'geometry': {'location': {'lat': 40.790214, 'lng': -73.9668174}, 'viewport': {'northeast': {'lat': 40.79149842989272, 'lng': -73.96551567010728}, 'southwest': {'lat': 40.78879877010728, 'lng': -73.96821532989273}}}, 'icon': 'https://maps.gstatic.com/mapfiles/place_api/icons/school-71.png', 'id': 'd86006c25bec425b6361a5b098296207e6020885', 'name': 'Columbia Grammar & Preparatory School', 'opening_hours': {'open_now': True}, 'photos': [{'height': 517, 'html_attributions': ['<a href=\"https://maps.google.com/maps/contrib/108924645521111916980/photos\">Columbia Grammar and Preparatory School</a>'], 'photo_reference': 'CmRaAAAA4uaM8mOVCMBULatKSqI8KhtqcmKAlnBX_gb5HsX7vClNmTPfCzdwy8UFkDmsgRxBXoFkA3on4BZ8VQc5E0zVt1P-4rLi-iVk5iXtTVLLpLgBw-IezUMPODD1Bi31dDKWEhCOz4SEwf70YBcz_tuzPHWuGhROv2sC0NvquVwL8EzmqyKVRqeXGQ', 'width': 1170}], 'place_id': 'ChIJ94gBtp1YwokR0FAmoIYBSrM', 'plus_code': {'compound_code': 'Q2RM+37 New York, United States', 'global_code': '87G8Q2RM+37'}, 'rating': 4.2, 'reference': 'ChIJ94gBtp1YwokR0FAmoIYBSrM', 'types': ['primary_school', 'school', 'point_of_interest', 'establishment'], 'user_ratings_total': 32}, {'formatted_address': '222 E 16th St, New York, NY 10003, United States', 'geometry': {'location': {'lat': 40.7340188, 'lng': -73.9850692}, 'viewport': {'northeast': {'lat': 40.73541117989272, 'lng': -73.98368777010728}, 'southwest': {'lat': 40.73271152010728, 'lng': -73.98638742989272}}}, 'icon': 'https://maps.gstatic.com/mapfiles/place_api/icons/school-71.png', 'id': '4b5a2e2dd9c3a10786fbb8d361e2f593d4b821f8', 'name': 'Friends Seminary', 'photos': [{'height': 2827, 'html_attributions': ['<a href=\"https://maps.google.com/maps/contrib/108316318189837436126/photos\">Friends Seminary</a>'], 'photo_reference': 'CmRaAAAAgN-ndiuGzsL_drKpFlswDtFAQkaZYe86hAFuRw7eQEfHCcTiMgcTfPV16XoaP738ZaSDP-mW66WLCY8e9lZpA-aVdEOEoLzjaAZaO4kj4HRv7DvnNQ3bmF72kAyCW8lOEhA7HfKPPfqSlHbQiPceu--DGhTh0oYX6zz7_tyc3On6JfW7CQ0Olg', 'width': 4240}], 'place_id': 'ChIJDWGAvJ9ZwokRduUvjKCdoIc', 'plus_code': {'compound_code': 'P2M7+JX New York, United States', 'global_code': '87G8P2M7+JX'}, 'rating': 4.7, 'reference': 'ChIJDWGAvJ9ZwokRduUvjKCdoIc', 'types': ['school', 'primary_school', 'secondary_school', 'point_of_interest', 'establishment'], 'user_ratings_total': 14}, {'formatted_address': '20 E 92nd St, New York, NY 10128, United States', 'geometry': {'location': {'lat': 40.784847, 'lng': -73.9567637}, 'viewport': {'northeast': {'lat': 40.78624827989272, 'lng': -73.95537572010727}, 'southwest': {'lat': 40.78354862010728, 'lng': -73.95807537989272}}}, 'icon': 'https://maps.gstatic.com/mapfiles/place_api/icons/school-71.png', 'id': '20b2a9c837838ca846f6dfea0f0caa2312e97e6a', 'name': 'Nightingale Bamford School', 'place_id': 'ChIJzVhQNKJYwokR4rFm6m4GbsI', 'plus_code': {'compound_code': 'Q2MV+W7 New York, United States', 'global_code': '87G8Q2MV+W7'}, 'rating': 4.3, 'reference': 'ChIJzVhQNKJYwokR4rFm6m4GbsI', 'types': ['school', 'point_of_interest', 'establishment'], 'user_ratings_total': 13}, {'formatted_address': '24-50 FDR Dr, New York, NY 10010, United States', 'geometry': {'location': {'lat': 40.736358, 'lng': -73.973541}, 'viewport': {'northeast': {'lat': 40.73787242989273, 'lng': -73.97267697010727}, 'southwest': {'lat': 40.73517277010728, 'lng': -73.97537662989271}}}, 'icon': 'https://maps.gstatic.com/mapfiles/place_api/icons/school-71.png', 'id': 'adadcb89082089cc2f17cc2f0043927a2488a649', 'name': 'United Nations International School', 'photos': [{'height': 1000, 'html_attributions': ['<a href=\"https://maps.google.com/maps/contrib/109642150664139500085/photos\">Capture2007</a>'], 'photo_reference': 'CmRaAAAABpvlPf_et_zuuLIVh0DOKoGR_Qsmca0V8tYfzi49jciVSgPzGsoHXYDxBA3a8igVTqrOqIEn3UoZ-XEeAaeRLRka6Cqe8jzAX6MalWMa3EbtRWjokUfluzH5y_pDTCvQEhCTbhhs7yAUjIn6bYgocshYGhSM4-aDc52l0RuUIPy3wMc4EUHy0g', 'width': 1500}], 'place_id': 'ChIJKzof5QxZwokRVtuF-wW4pbY', 'plus_code': {'compound_code': 'P2PG+GH New York, United States', 'global_code': '87G8P2PG+GH'}, 'rating': 4.1, 'reference': 'ChIJKzof5QxZwokRVtuF-wW4pbY', 'types': ['school', 'point_of_interest', 'establishment'], 'user_ratings_total': 35}, {'formatted_address': '505 E 75th St, New York, NY 10021, United States', 'geometry': {'location': {'lat': 40.7690971, 'lng': -73.9513436}, 'viewport': {'northeast': {'lat': 40.77018197989272, 'lng': -73.95018717010728}, 'southwest': {'lat': 40.76748232010728, 'lng': -73.95288682989272}}}, 'icon': 'https://maps.gstatic.com/mapfiles/place_api/icons/school-71.png', 'id': '488da33c1d79b373ff2f295b38a97ba519373589', 'name': 'Lycée Français De New York', 'photos': [{'height': 1333, 'html_attributions': ['<a href=\"https://maps.google.com/maps/contrib/106472650106532608622/photos\">Lycee Francais De New York</a>'], 'photo_reference': 'CmRaAAAAIYXPH5esq9N8IQbOyxd7TWmP5Ty3pmJjes61IjhnKtiN22C3aWkIcXUheRhc5V6yeAEsvwrsfG99K62qItD0j5UHN--myRU_HGQtkWX_Ktj6jBW_626c750C_97U5ZXiEhAfi3aTWT43D0gn69JHadTSGhRKjRQkKDKtv903l6r6cs1KWEKJgA', 'width': 2000}], 'place_id': 'ChIJTRB5GsdYwokRK8z5FV4ZO6Q', 'plus_code': {'compound_code': 'Q29X+JF New York, United States', 'global_code': '87G8Q29X+JF'}, 'rating': 4.6, 'reference': 'ChIJTRB5GsdYwokRK8z5FV4ZO6Q', 'types': ['school', 'point_of_interest', 'establishment'], 'user_ratings_total': 14}, {'formatted_address': '240 Convent Ave, New York, NY 10031, United States', 'geometry': {'location': {'lat': 40.8214739, 'lng': -73.94903889999999}, 'viewport': {'northeast': {'lat': 40.82274442989272, 'lng': -73.94750637010728}, 'southwest': {'lat': 40.82004477010728, 'lng': -73.95020602989271}}}, 'icon': 'https://maps.gstatic.com/mapfiles/place_api/icons/school-71.png', 'id': 'e55e7eee53f8e4881bc494a69844c3fa4c338781', 'name': 'The High School for Math, Science & Engineering', 'photos': [{'height': 1728, 'html_attributions': ['<a href=\"https://maps.google.com/maps/contrib/102394833981517788913/photos\">Ahsan Sheikh</a>'], 'photo_reference': 'CmRaAAAAorKWpUaTdS97gey5GU95Ze-KXdfsU7BT1BmdNw6sxrxtybiOzVEwZzb5j-LJnv5A6RPhXtPW6O4lVIQCOBjwn0o2rM19kfpnxDvWkIwvO5GULKgls8866ZMwrLvVZL5NEhDItK_selybOb7DRwSe4LYdGhQL5df92VgyGreE-K3IQpKPa8fijQ', 'width': 3072}], 'place_id': 'ChIJsYaEJGX2wokRdnzh60vlsrQ', 'plus_code': {'compound_code': 'R3C2+H9 New York, United States', 'global_code': '87G8R3C2+H9'}, 'rating': 4.2, 'reference': 'ChIJsYaEJGX2wokRdnzh60vlsrQ', 'types': ['secondary_school', 'school', 'point_of_interest', 'establishment'], 'user_ratings_total': 34}], 'status': 'OK'}\n"
     ]
    }
   ],
   "source": [
    "schools_ny=api_request('Schools New York')"
   ]
  },
  {
   "cell_type": "code",
   "execution_count": 3,
   "metadata": {},
   "outputs": [
    {
     "name": "stdout",
     "output_type": "stream",
     "text": [
      "{'formatted_address': '1026 5th Ave, New York, NY 10028, United States', 'geometry': {'location': {'lat': 40.7799655, 'lng': -73.96136820000001}, 'viewport': {'northeast': {'lat': 40.78134717989272, 'lng': -73.96009237010726}, 'southwest': {'lat': 40.77864752010728, 'lng': -73.96279202989271}}}, 'icon': 'https://maps.gstatic.com/mapfiles/place_api/icons/school-71.png', 'id': '287dc98908e8760c257241e97566f419313dc042', 'name': 'Marymount School of New York', 'photos': [{'height': 4032, 'html_attributions': ['<a href=\"https://maps.google.com/maps/contrib/115481102779579419248/photos\">Joseph Youssef</a>'], 'photo_reference': 'CmRaAAAAe73YRGXvkncjb3hQzoitI4w8DsigMA9npUj6nZQCqdnQ15J_E_fefpbGQdNNn-wAA1jx475ev2ixMh57EbEAg9P7tF7fywnc3Afj3fuRImkEDk3YezXC57_jP5sq7qATEhBo08NzS6PIPers-GW9HYDAGhQkoJ-UdjM1K5MQclPgZBpIQNifsQ', 'width': 3024}], 'place_id': 'ChIJHwjkuZdYwokRsFfcPewQPu4', 'plus_code': {'compound_code': 'Q2HQ+XF New York, United States', 'global_code': '87G8Q2HQ+XF'}, 'rating': 4.4, 'reference': 'ChIJHwjkuZdYwokRsFfcPewQPu4', 'types': ['school', 'point_of_interest', 'establishment'], 'user_ratings_total': 14}\n",
      "\n",
      "dict_keys(['formatted_address', 'geometry', 'icon', 'id', 'name', 'photos', 'place_id', 'plus_code', 'rating', 'reference', 'types', 'user_ratings_total'])\n"
     ]
    }
   ],
   "source": [
    "print(schools_ny[0])\n",
    "\n",
    "print()\n",
    "\n",
    "print(schools_ny[0].keys())"
   ]
  },
  {
   "cell_type": "code",
   "execution_count": 4,
   "metadata": {},
   "outputs": [],
   "source": [
    "not_req_info=['icon', 'opening_hours', 'photos', 'place_id',\n",
    "                'plus_code', 'rating', 'reference', 'types', 'user_ratings_total']"
   ]
  },
  {
   "cell_type": "code",
   "execution_count": 5,
   "metadata": {},
   "outputs": [
    {
     "name": "stdout",
     "output_type": "stream",
     "text": [
      "{'formatted_address': '1026 5th Ave, New York, NY 10028, United States', 'geometry': {'location': {'lat': 40.7799655, 'lng': -73.96136820000001}, 'viewport': {'northeast': {'lat': 40.78134717989272, 'lng': -73.96009237010726}, 'southwest': {'lat': 40.77864752010728, 'lng': -73.96279202989271}}}, 'id': '287dc98908e8760c257241e97566f419313dc042', 'name': 'Marymount School of New York'}\n"
     ]
    }
   ],
   "source": [
    "schools_ny=deleting_keys(schools_ny,not_req_info)\n",
    "\n",
    "print(schools_ny[0])"
   ]
  },
  {
   "cell_type": "code",
   "execution_count": 6,
   "metadata": {},
   "outputs": [],
   "source": [
    "schools_ny=getLocation(schools_ny)"
   ]
  },
  {
   "cell_type": "code",
   "execution_count": 7,
   "metadata": {},
   "outputs": [
    {
     "data": {
      "text/html": [
       "<div>\n",
       "<style scoped>\n",
       "    .dataframe tbody tr th:only-of-type {\n",
       "        vertical-align: middle;\n",
       "    }\n",
       "\n",
       "    .dataframe tbody tr th {\n",
       "        vertical-align: top;\n",
       "    }\n",
       "\n",
       "    .dataframe thead th {\n",
       "        text-align: right;\n",
       "    }\n",
       "</style>\n",
       "<table border=\"1\" class=\"dataframe\">\n",
       "  <thead>\n",
       "    <tr style=\"text-align: right;\">\n",
       "      <th></th>\n",
       "      <th>formatted_address</th>\n",
       "      <th>geometry</th>\n",
       "      <th>id</th>\n",
       "      <th>name</th>\n",
       "      <th>loc</th>\n",
       "      <th>Category</th>\n",
       "    </tr>\n",
       "  </thead>\n",
       "  <tbody>\n",
       "    <tr>\n",
       "      <th>0</th>\n",
       "      <td>1026 5th Ave, New York, NY 10028, United States</td>\n",
       "      <td>{'location': {'lat': 40.7799655, 'lng': -73.96...</td>\n",
       "      <td>287dc98908e8760c257241e97566f419313dc042</td>\n",
       "      <td>Marymount School of New York</td>\n",
       "      <td>{'type': 'Point', 'coordinates': [40.7799655, ...</td>\n",
       "      <td>Starbucks</td>\n",
       "    </tr>\n",
       "    <tr>\n",
       "      <th>1</th>\n",
       "      <td>20 Waterside Plaza, New York, NY 10010, United...</td>\n",
       "      <td>{'location': {'lat': 40.7368052, 'lng': -73.97...</td>\n",
       "      <td>f4718a0bfc73fb78dbb354516cd5f8bc4a633ff1</td>\n",
       "      <td>The British International School of New York</td>\n",
       "      <td>{'type': 'Point', 'coordinates': [40.7368052, ...</td>\n",
       "      <td>Starbucks</td>\n",
       "    </tr>\n",
       "    <tr>\n",
       "      <th>2</th>\n",
       "      <td>1665 St Marks Ave, Brooklyn, NY 11233, United ...</td>\n",
       "      <td>{'location': {'lat': 40.6733846, 'lng': -73.91...</td>\n",
       "      <td>c00ef27f6fce06eb83d14034a54568b160afa8fa</td>\n",
       "      <td>New York City School District Office</td>\n",
       "      <td>{'type': 'Point', 'coordinates': [40.6733846, ...</td>\n",
       "      <td>Starbucks</td>\n",
       "    </tr>\n",
       "    <tr>\n",
       "      <th>3</th>\n",
       "      <td>44 E 2nd St, New York, NY 10003, United States</td>\n",
       "      <td>{'location': {'lat': 40.7248751, 'lng': -73.98...</td>\n",
       "      <td>12ce6ecd42e708aea41cb942c35cb59b938a585a</td>\n",
       "      <td>Nord Anglia International School, New York</td>\n",
       "      <td>{'type': 'Point', 'coordinates': [40.7248751, ...</td>\n",
       "      <td>Starbucks</td>\n",
       "    </tr>\n",
       "    <tr>\n",
       "      <th>4</th>\n",
       "      <td>345 Chambers St, New York, NY 10282, United St...</td>\n",
       "      <td>{'location': {'lat': 40.7177577, 'lng': -74.01...</td>\n",
       "      <td>7ba09b3c5a39799342b9e024f869a499feab17ed</td>\n",
       "      <td>Stuyvesant High School</td>\n",
       "      <td>{'type': 'Point', 'coordinates': [40.7177577, ...</td>\n",
       "      <td>Starbucks</td>\n",
       "    </tr>\n",
       "  </tbody>\n",
       "</table>\n",
       "</div>"
      ],
      "text/plain": [
       "                                   formatted_address  \\\n",
       "0    1026 5th Ave, New York, NY 10028, United States   \n",
       "1  20 Waterside Plaza, New York, NY 10010, United...   \n",
       "2  1665 St Marks Ave, Brooklyn, NY 11233, United ...   \n",
       "3     44 E 2nd St, New York, NY 10003, United States   \n",
       "4  345 Chambers St, New York, NY 10282, United St...   \n",
       "\n",
       "                                            geometry  \\\n",
       "0  {'location': {'lat': 40.7799655, 'lng': -73.96...   \n",
       "1  {'location': {'lat': 40.7368052, 'lng': -73.97...   \n",
       "2  {'location': {'lat': 40.6733846, 'lng': -73.91...   \n",
       "3  {'location': {'lat': 40.7248751, 'lng': -73.98...   \n",
       "4  {'location': {'lat': 40.7177577, 'lng': -74.01...   \n",
       "\n",
       "                                         id  \\\n",
       "0  287dc98908e8760c257241e97566f419313dc042   \n",
       "1  f4718a0bfc73fb78dbb354516cd5f8bc4a633ff1   \n",
       "2  c00ef27f6fce06eb83d14034a54568b160afa8fa   \n",
       "3  12ce6ecd42e708aea41cb942c35cb59b938a585a   \n",
       "4  7ba09b3c5a39799342b9e024f869a499feab17ed   \n",
       "\n",
       "                                           name  \\\n",
       "0                  Marymount School of New York   \n",
       "1  The British International School of New York   \n",
       "2          New York City School District Office   \n",
       "3    Nord Anglia International School, New York   \n",
       "4                        Stuyvesant High School   \n",
       "\n",
       "                                                 loc   Category  \n",
       "0  {'type': 'Point', 'coordinates': [40.7799655, ...  Starbucks  \n",
       "1  {'type': 'Point', 'coordinates': [40.7368052, ...  Starbucks  \n",
       "2  {'type': 'Point', 'coordinates': [40.6733846, ...  Starbucks  \n",
       "3  {'type': 'Point', 'coordinates': [40.7248751, ...  Starbucks  \n",
       "4  {'type': 'Point', 'coordinates': [40.7177577, ...  Starbucks  "
      ]
     },
     "execution_count": 7,
     "metadata": {},
     "output_type": "execute_result"
    }
   ],
   "source": [
    "schools_df=pd.DataFrame(schools_ny)\n",
    "\n",
    "schools_df['Category']='Starbucks'\n",
    "\n",
    "schools_df.head()"
   ]
  },
  {
   "cell_type": "code",
   "execution_count": 8,
   "metadata": {},
   "outputs": [
    {
     "data": {
      "text/html": [
       "<div>\n",
       "<style scoped>\n",
       "    .dataframe tbody tr th:only-of-type {\n",
       "        vertical-align: middle;\n",
       "    }\n",
       "\n",
       "    .dataframe tbody tr th {\n",
       "        vertical-align: top;\n",
       "    }\n",
       "\n",
       "    .dataframe thead th {\n",
       "        text-align: right;\n",
       "    }\n",
       "</style>\n",
       "<table border=\"1\" class=\"dataframe\">\n",
       "  <thead>\n",
       "    <tr style=\"text-align: right;\">\n",
       "      <th></th>\n",
       "      <th>formatted_address</th>\n",
       "      <th>id</th>\n",
       "      <th>name</th>\n",
       "      <th>loc</th>\n",
       "      <th>Category</th>\n",
       "    </tr>\n",
       "  </thead>\n",
       "  <tbody>\n",
       "    <tr>\n",
       "      <th>0</th>\n",
       "      <td>1026 5th Ave, New York, NY 10028, United States</td>\n",
       "      <td>287dc98908e8760c257241e97566f419313dc042</td>\n",
       "      <td>Marymount School of New York</td>\n",
       "      <td>{'type': 'Point', 'coordinates': [40.7799655, ...</td>\n",
       "      <td>Starbucks</td>\n",
       "    </tr>\n",
       "  </tbody>\n",
       "</table>\n",
       "</div>"
      ],
      "text/plain": [
       "                                 formatted_address  \\\n",
       "0  1026 5th Ave, New York, NY 10028, United States   \n",
       "\n",
       "                                         id                          name  \\\n",
       "0  287dc98908e8760c257241e97566f419313dc042  Marymount School of New York   \n",
       "\n",
       "                                                 loc   Category  \n",
       "0  {'type': 'Point', 'coordinates': [40.7799655, ...  Starbucks  "
      ]
     },
     "execution_count": 8,
     "metadata": {},
     "output_type": "execute_result"
    }
   ],
   "source": [
    "schools_df=schools_df.drop(['geometry'],axis=1)\n",
    "\n",
    "schools_df.head(1)"
   ]
  },
  {
   "cell_type": "code",
   "execution_count": 9,
   "metadata": {},
   "outputs": [],
   "source": [
    "schools_df.to_json(\"Output/schools_ny.json\",orient='records')\n",
    "#mongoimport --db companies --collection schools --jsonArray  schools.json"
   ]
  }
 ],
 "metadata": {
  "kernelspec": {
   "display_name": "Python 3",
   "language": "python",
   "name": "python3"
  },
  "language_info": {
   "codemirror_mode": {
    "name": "ipython",
    "version": 3
   },
   "file_extension": ".py",
   "mimetype": "text/x-python",
   "name": "python",
   "nbconvert_exporter": "python",
   "pygments_lexer": "ipython3",
   "version": "3.7.5rc1"
  }
 },
 "nbformat": 4,
 "nbformat_minor": 2
}

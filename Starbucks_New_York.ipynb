{
 "cells": [
  {
   "cell_type": "code",
   "execution_count": 1,
   "metadata": {
    "scrolled": true
   },
   "outputs": [
    {
     "data": {
      "text/plain": [
       "True"
      ]
     },
     "execution_count": 1,
     "metadata": {},
     "output_type": "execute_result"
    }
   ],
   "source": [
    "import requests\n",
    "import os\n",
    "from dotenv import load_dotenv\n",
    "import pandas as pd\n",
    "import folium\n",
    "from pymongo import MongoClient\n",
    "\n",
    "load_dotenv()"
   ]
  },
  {
   "cell_type": "code",
   "execution_count": 2,
   "metadata": {},
   "outputs": [],
   "source": [
    "# Python program to get a set of  \n",
    "# places according to your search  \n",
    "# query using Google Places API \n",
    "  \n",
    "# importing required modules \n",
    "import requests, json \n",
    "  \n",
    "# enter your api key here \n",
    "api_key = os.getenv(\"GOOGLE_TOKEN\")\n",
    "  \n",
    "# url variable store url \n",
    "url = \"https://maps.googleapis.com/maps/api/place/textsearch/json?\"\n",
    "  \n",
    "# The text string on which to search \n",
    "query = 'Starbucks New york'\n",
    "  \n",
    "# get method of requests module \n",
    "# return response object \n",
    "r = requests.get(url + 'query=' + query +\n",
    "                        '&key=' + api_key) \n",
    "  \n",
    "# json method of response object convert \n",
    "#  json format data into python format data \n",
    "x = r.json() \n",
    "  \n",
    "# now x contains list of nested dictionaries \n",
    "# we know dictionary contain key value pair \n",
    "# store the value of result key in variable y \n",
    "y = x['results'] \n",
    "  \n",
    "# keep looping upto lenght of y \n",
    "\n",
    "starbucks_ny=[]\n",
    "for i in range(len(y)): \n",
    "      \n",
    "    # Print value corresponding to the \n",
    "    # 'name' key at the ith index of y \n",
    "    starbucks_ny.append(( y[i]))\n"
   ]
  },
  {
   "cell_type": "code",
   "execution_count": 3,
   "metadata": {},
   "outputs": [
    {
     "data": {
      "text/plain": [
       "dict_keys(['formatted_address', 'geometry', 'icon', 'id', 'name', 'opening_hours', 'photos', 'place_id', 'plus_code', 'price_level', 'rating', 'reference', 'types', 'user_ratings_total'])"
      ]
     },
     "execution_count": 3,
     "metadata": {},
     "output_type": "execute_result"
    }
   ],
   "source": [
    "starbucks_ny[0].keys()"
   ]
  },
  {
   "cell_type": "code",
   "execution_count": 4,
   "metadata": {},
   "outputs": [],
   "source": [
    "def deleting_keys(json,lst_keys_no_req):\n",
    "    for i in range(len(json)):\n",
    "        for e in lst_keys_no_req:\n",
    "            if e in json[i]:\n",
    "                del json[i][e]\n",
    "    return json"
   ]
  },
  {
   "cell_type": "code",
   "execution_count": 5,
   "metadata": {},
   "outputs": [],
   "source": [
    "not_req_keys=['icon', 'opening_hours', 'photos', 'place_id', 'plus_code', \n",
    "              'price_level', 'rating', 'reference', 'types', 'user_ratings_total']"
   ]
  },
  {
   "cell_type": "code",
   "execution_count": 6,
   "metadata": {},
   "outputs": [],
   "source": [
    "starbucks_ny=deleting_keys(starbucks_ny,not_req_keys)\n"
   ]
  },
  {
   "cell_type": "code",
   "execution_count": 14,
   "metadata": {},
   "outputs": [],
   "source": [
    "def getLocation(lst):\n",
    "    for i in range(len(lst)):\n",
    "        longitude = lst[i]['geometry']['location']['lng']\n",
    "        latitude = lst[i]['geometry']['location']['lat']\n",
    "        loc = {\n",
    "            'type':'Point',\n",
    "            'coordinates':[latitude, longitude]\n",
    "        }\n",
    "        lst[i]['loc']=loc\n",
    "\n",
    "    return lst"
   ]
  },
  {
   "cell_type": "code",
   "execution_count": 15,
   "metadata": {},
   "outputs": [],
   "source": [
    "starbucks_ny=getLocation(starbucks_ny)"
   ]
  },
  {
   "cell_type": "code",
   "execution_count": 16,
   "metadata": {
    "scrolled": true
   },
   "outputs": [
    {
     "data": {
      "text/html": [
       "<div>\n",
       "<style scoped>\n",
       "    .dataframe tbody tr th:only-of-type {\n",
       "        vertical-align: middle;\n",
       "    }\n",
       "\n",
       "    .dataframe tbody tr th {\n",
       "        vertical-align: top;\n",
       "    }\n",
       "\n",
       "    .dataframe thead th {\n",
       "        text-align: right;\n",
       "    }\n",
       "</style>\n",
       "<table border=\"1\" class=\"dataframe\">\n",
       "  <thead>\n",
       "    <tr style=\"text-align: right;\">\n",
       "      <th></th>\n",
       "      <th>formatted_address</th>\n",
       "      <th>geometry</th>\n",
       "      <th>id</th>\n",
       "      <th>name</th>\n",
       "      <th>loc</th>\n",
       "      <th>Category</th>\n",
       "    </tr>\n",
       "  </thead>\n",
       "  <tbody>\n",
       "    <tr>\n",
       "      <th>0</th>\n",
       "      <td>482 W Broadway, New York, NY 10012, United States</td>\n",
       "      <td>{'location': {'lat': 40.7268419, 'lng': -74.00...</td>\n",
       "      <td>d3b60d1da252d57bc05db6b3d82f769ac0bf5cc9</td>\n",
       "      <td>Starbucks</td>\n",
       "      <td>{'type': 'Point', 'coordinates': [40.7268419, ...</td>\n",
       "      <td>Starbucks</td>\n",
       "    </tr>\n",
       "    <tr>\n",
       "      <th>1</th>\n",
       "      <td>1101 - 1109, 6th Ave, New York, NY 10036, Unit...</td>\n",
       "      <td>{'location': {'lat': 40.75559, 'lng': -73.9841...</td>\n",
       "      <td>1457050997802b2314d6cd378f12d6ed946dd3d9</td>\n",
       "      <td>Starbucks</td>\n",
       "      <td>{'type': 'Point', 'coordinates': [40.75559, -7...</td>\n",
       "      <td>Starbucks</td>\n",
       "    </tr>\n",
       "    <tr>\n",
       "      <th>2</th>\n",
       "      <td>4761 Broadway, New York, NY 10040, United States</td>\n",
       "      <td>{'location': {'lat': 40.865718, 'lng': -73.927...</td>\n",
       "      <td>357050d77392f3a98edd4c65faeee339fb888151</td>\n",
       "      <td>Starbucks</td>\n",
       "      <td>{'type': 'Point', 'coordinates': [40.865718, -...</td>\n",
       "      <td>Starbucks</td>\n",
       "    </tr>\n",
       "    <tr>\n",
       "      <th>3</th>\n",
       "      <td>325 W 49th St, New York, NY 10019, United States</td>\n",
       "      <td>{'location': {'lat': 40.762192, 'lng': -73.987...</td>\n",
       "      <td>5c55c74e5a3b466b77e118075d88652ca8eff51e</td>\n",
       "      <td>Starbucks</td>\n",
       "      <td>{'type': 'Point', 'coordinates': [40.762192, -...</td>\n",
       "      <td>Starbucks</td>\n",
       "    </tr>\n",
       "    <tr>\n",
       "      <th>4</th>\n",
       "      <td>1500 Broadway, New York, NY 10019, United States</td>\n",
       "      <td>{'location': {'lat': 40.7567274, 'lng': -73.98...</td>\n",
       "      <td>0670c3bc090a1e37682bc6822528b0fc0686363b</td>\n",
       "      <td>Starbucks</td>\n",
       "      <td>{'type': 'Point', 'coordinates': [40.7567274, ...</td>\n",
       "      <td>Starbucks</td>\n",
       "    </tr>\n",
       "  </tbody>\n",
       "</table>\n",
       "</div>"
      ],
      "text/plain": [
       "                                   formatted_address  \\\n",
       "0  482 W Broadway, New York, NY 10012, United States   \n",
       "1  1101 - 1109, 6th Ave, New York, NY 10036, Unit...   \n",
       "2   4761 Broadway, New York, NY 10040, United States   \n",
       "3   325 W 49th St, New York, NY 10019, United States   \n",
       "4   1500 Broadway, New York, NY 10019, United States   \n",
       "\n",
       "                                            geometry  \\\n",
       "0  {'location': {'lat': 40.7268419, 'lng': -74.00...   \n",
       "1  {'location': {'lat': 40.75559, 'lng': -73.9841...   \n",
       "2  {'location': {'lat': 40.865718, 'lng': -73.927...   \n",
       "3  {'location': {'lat': 40.762192, 'lng': -73.987...   \n",
       "4  {'location': {'lat': 40.7567274, 'lng': -73.98...   \n",
       "\n",
       "                                         id       name  \\\n",
       "0  d3b60d1da252d57bc05db6b3d82f769ac0bf5cc9  Starbucks   \n",
       "1  1457050997802b2314d6cd378f12d6ed946dd3d9  Starbucks   \n",
       "2  357050d77392f3a98edd4c65faeee339fb888151  Starbucks   \n",
       "3  5c55c74e5a3b466b77e118075d88652ca8eff51e  Starbucks   \n",
       "4  0670c3bc090a1e37682bc6822528b0fc0686363b  Starbucks   \n",
       "\n",
       "                                                 loc   Category  \n",
       "0  {'type': 'Point', 'coordinates': [40.7268419, ...  Starbucks  \n",
       "1  {'type': 'Point', 'coordinates': [40.75559, -7...  Starbucks  \n",
       "2  {'type': 'Point', 'coordinates': [40.865718, -...  Starbucks  \n",
       "3  {'type': 'Point', 'coordinates': [40.762192, -...  Starbucks  \n",
       "4  {'type': 'Point', 'coordinates': [40.7567274, ...  Starbucks  "
      ]
     },
     "execution_count": 16,
     "metadata": {},
     "output_type": "execute_result"
    }
   ],
   "source": [
    "starbucks_df=pd.DataFrame(starbucks_ny)\n",
    "\n",
    "starbucks_df['Category']='Starbucks'\n",
    "\n",
    "starbucks_df.head()"
   ]
  },
  {
   "cell_type": "code",
   "execution_count": 17,
   "metadata": {},
   "outputs": [
    {
     "data": {
      "text/html": [
       "<div>\n",
       "<style scoped>\n",
       "    .dataframe tbody tr th:only-of-type {\n",
       "        vertical-align: middle;\n",
       "    }\n",
       "\n",
       "    .dataframe tbody tr th {\n",
       "        vertical-align: top;\n",
       "    }\n",
       "\n",
       "    .dataframe thead th {\n",
       "        text-align: right;\n",
       "    }\n",
       "</style>\n",
       "<table border=\"1\" class=\"dataframe\">\n",
       "  <thead>\n",
       "    <tr style=\"text-align: right;\">\n",
       "      <th></th>\n",
       "      <th>formatted_address</th>\n",
       "      <th>id</th>\n",
       "      <th>name</th>\n",
       "      <th>loc</th>\n",
       "      <th>Category</th>\n",
       "    </tr>\n",
       "  </thead>\n",
       "  <tbody>\n",
       "    <tr>\n",
       "      <th>0</th>\n",
       "      <td>482 W Broadway, New York, NY 10012, United States</td>\n",
       "      <td>d3b60d1da252d57bc05db6b3d82f769ac0bf5cc9</td>\n",
       "      <td>Starbucks</td>\n",
       "      <td>{'type': 'Point', 'coordinates': [40.7268419, ...</td>\n",
       "      <td>Starbucks</td>\n",
       "    </tr>\n",
       "  </tbody>\n",
       "</table>\n",
       "</div>"
      ],
      "text/plain": [
       "                                   formatted_address  \\\n",
       "0  482 W Broadway, New York, NY 10012, United States   \n",
       "\n",
       "                                         id       name  \\\n",
       "0  d3b60d1da252d57bc05db6b3d82f769ac0bf5cc9  Starbucks   \n",
       "\n",
       "                                                 loc   Category  \n",
       "0  {'type': 'Point', 'coordinates': [40.7268419, ...  Starbucks  "
      ]
     },
     "execution_count": 17,
     "metadata": {},
     "output_type": "execute_result"
    }
   ],
   "source": [
    "starbucks_df=starbucks_df.drop(['geometry'],axis=1)\n",
    "\n",
    "starbucks_df.head(1)"
   ]
  },
  {
   "cell_type": "code",
   "execution_count": 18,
   "metadata": {},
   "outputs": [],
   "source": [
    "starbucks_df.to_json(\"starbucks_ny.json\",orient='records')"
   ]
  },
  {
   "cell_type": "code",
   "execution_count": 19,
   "metadata": {},
   "outputs": [],
   "source": [
    "map_city=folium.Map(location=(40.7142700, -74.0059700), zoom_start=12)"
   ]
  },
  {
   "cell_type": "code",
   "execution_count": null,
   "metadata": {},
   "outputs": [],
   "source": [
    "for i in range(len(starbucks_ny)):\n",
    "    folium.Marker([starbucks_ny[i]['location']['lat'],\n",
    "                   starbucks_ny[i]['location']['lng']],\n",
    "                  zoom_start=1 ,icon=folium.Icon(prefix='fa', icon='coffee',color='darkred'),\n",
    "                  popup='Starbucks').add_to(map_city)"
   ]
  },
  {
   "cell_type": "code",
   "execution_count": null,
   "metadata": {},
   "outputs": [],
   "source": [
    "map_city"
   ]
  },
  {
   "cell_type": "code",
   "execution_count": null,
   "metadata": {},
   "outputs": [],
   "source": []
  }
 ],
 "metadata": {
  "kernelspec": {
   "display_name": "Python 3",
   "language": "python",
   "name": "python3"
  },
  "language_info": {
   "codemirror_mode": {
    "name": "ipython",
    "version": 3
   },
   "file_extension": ".py",
   "mimetype": "text/x-python",
   "name": "python",
   "nbconvert_exporter": "python",
   "pygments_lexer": "ipython3",
   "version": "3.7.5rc1"
  }
 },
 "nbformat": 4,
 "nbformat_minor": 2
}

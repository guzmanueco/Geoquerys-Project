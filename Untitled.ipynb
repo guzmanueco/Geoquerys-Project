{
 "cells": [
  {
   "cell_type": "code",
   "execution_count": 12,
   "metadata": {},
   "outputs": [
    {
     "ename": "SyntaxError",
     "evalue": "invalid syntax (Companies.ipynb, line 73)",
     "output_type": "error",
     "traceback": [
      "Traceback \u001b[0;36m(most recent call last)\u001b[0m:\n",
      "  File \u001b[1;32m\"/home/guzman/.local/lib/python3.7/site-packages/IPython/core/interactiveshell.py\"\u001b[0m, line \u001b[1;32m3326\u001b[0m, in \u001b[1;35mrun_code\u001b[0m\n    exec(code_obj, self.user_global_ns, self.user_ns)\n",
      "  File \u001b[1;32m\"<ipython-input-12-8129e9af2b5f>\"\u001b[0m, line \u001b[1;32m4\u001b[0m, in \u001b[1;35m<module>\u001b[0m\n    from ipynb.fs.full.Companies import coordinates_comp\n",
      "  File \u001b[1;32m\"<frozen importlib._bootstrap>\"\u001b[0m, line \u001b[1;32m983\u001b[0m, in \u001b[1;35m_find_and_load\u001b[0m\n",
      "  File \u001b[1;32m\"<frozen importlib._bootstrap>\"\u001b[0m, line \u001b[1;32m967\u001b[0m, in \u001b[1;35m_find_and_load_unlocked\u001b[0m\n",
      "  File \u001b[1;32m\"<frozen importlib._bootstrap>\"\u001b[0m, line \u001b[1;32m677\u001b[0m, in \u001b[1;35m_load_unlocked\u001b[0m\n",
      "  File \u001b[1;32m\"<frozen importlib._bootstrap_external>\"\u001b[0m, line \u001b[1;32m724\u001b[0m, in \u001b[1;35mexec_module\u001b[0m\n",
      "\u001b[0;36m  File \u001b[0;32m\"/home/guzman/.local/lib/python3.7/site-packages/ipynb/fs/full/__init__.py\"\u001b[0;36m, line \u001b[0;32m43\u001b[0;36m, in \u001b[0;35mget_code\u001b[0;36m\u001b[0m\n\u001b[0;31m    return self.source_to_code(code_from_ipynb(nb), self.path)\u001b[0m\n",
      "\u001b[0;36m  File \u001b[0;32m\"/home/guzman/Documentos/Geoquerys-Project/Companies.ipynb\"\u001b[0;36m, line \u001b[0;32m73\u001b[0m\n\u001b[0;31m    \"metadata\": {},\u001b[0m\n\u001b[0m                   \n^\u001b[0m\n\u001b[0;31mSyntaxError\u001b[0m\u001b[0;31m:\u001b[0m invalid syntax\n"
     ]
    }
   ],
   "source": [
    "import ipynb\n",
    "from ipynb.fs.full.Schools import schools_ny\n",
    "from ipynb.fs.full.Starbucks_New_York import starbucks_ny\n",
    "from ipynb.fs.full.Companies import coordinates_comp"
   ]
  },
  {
   "cell_type": "code",
   "execution_count": 11,
   "metadata": {},
   "outputs": [
    {
     "data": {
      "text/plain": [
       "[{'location': {'lat': 40.3047365, 'lng': -3.7383914},\n",
       "  'viewport': {'northeast': {'lat': 40.30617912989273,\n",
       "    'lng': -3.737020020107277},\n",
       "   'southwest': {'lat': 40.30347947010728, 'lng': -3.739719679892721}}},\n",
       " {'location': {'lat': 40.4165399, 'lng': -3.7001073},\n",
       "  'viewport': {'northeast': {'lat': 40.41791982989272,\n",
       "    'lng': -3.698756570107278},\n",
       "   'southwest': {'lat': 40.41522017010728, 'lng': -3.701456229892722}}},\n",
       " {'location': {'lat': 40.382808, 'lng': -3.702391999999999},\n",
       "  'viewport': {'northeast': {'lat': 40.38415822989273,\n",
       "    'lng': -3.701072020107278},\n",
       "   'southwest': {'lat': 40.38145857010728, 'lng': -3.703771679892721}}},\n",
       " {'location': {'lat': 40.3731988, 'lng': -3.6908705},\n",
       "  'viewport': {'northeast': {'lat': 40.37459102989272,\n",
       "    'lng': -3.689525170107279},\n",
       "   'southwest': {'lat': 40.37189137010728, 'lng': -3.692224829892722}}},\n",
       " {'location': {'lat': 40.42313, 'lng': -3.698288},\n",
       "  'viewport': {'northeast': {'lat': 40.42448012989272,\n",
       "    'lng': -3.696938970107279},\n",
       "   'southwest': {'lat': 40.42178047010728, 'lng': -3.699638629892723}}},\n",
       " {'location': {'lat': 40.3949923, 'lng': -3.7125971},\n",
       "  'viewport': {'northeast': {'lat': 40.39636707989272,\n",
       "    'lng': -3.711227070107278},\n",
       "   'southwest': {'lat': 40.39366742010728, 'lng': -3.713926729892722}}},\n",
       " {'location': {'lat': 40.4633804, 'lng': -3.6868619},\n",
       "  'viewport': {'northeast': {'lat': 40.46467282989273,\n",
       "    'lng': -3.685517720107278},\n",
       "   'southwest': {'lat': 40.46197317010729, 'lng': -3.688217379892722}}},\n",
       " {'location': {'lat': 40.3863274, 'lng': -3.6661861},\n",
       "  'viewport': {'northeast': {'lat': 40.38765442989271,\n",
       "    'lng': -3.664790870107278},\n",
       "   'southwest': {'lat': 40.38495477010727, 'lng': -3.667490529892722}}},\n",
       " {'location': {'lat': 40.4337943, 'lng': -3.6922339},\n",
       "  'viewport': {'northeast': {'lat': 40.43514572989272,\n",
       "    'lng': -3.690843770107278},\n",
       "   'southwest': {'lat': 40.43244607010728, 'lng': -3.693543429892722}}},\n",
       " {'location': {'lat': 40.3942656, 'lng': -3.6672382},\n",
       "  'viewport': {'northeast': {'lat': 40.39560042989272,\n",
       "    'lng': -3.665867020107278},\n",
       "   'southwest': {'lat': 40.39290077010727, 'lng': -3.668566679892722}}},\n",
       " {'location': {'lat': 40.426403, 'lng': -3.6706667},\n",
       "  'viewport': {'northeast': {'lat': 40.42775462989272,\n",
       "    'lng': -3.669378070107278},\n",
       "   'southwest': {'lat': 40.42505497010728, 'lng': -3.672077729892722}}},\n",
       " {'location': {'lat': 40.4317604, 'lng': -3.7037405},\n",
       "  'viewport': {'northeast': {'lat': 40.43313807989272,\n",
       "    'lng': -3.702280370107277},\n",
       "   'southwest': {'lat': 40.43043842010728, 'lng': -3.704980029892721}}},\n",
       " {'location': {'lat': 40.4120322, 'lng': -3.7030474},\n",
       "  'viewport': {'northeast': {'lat': 40.41337462989272,\n",
       "    'lng': -3.701736070107278},\n",
       "   'southwest': {'lat': 40.41067497010727, 'lng': -3.704435729892722}}},\n",
       " {'location': {'lat': 40.3923772, 'lng': -3.6576992},\n",
       "  'viewport': {'northeast': {'lat': 40.39368807989272,\n",
       "    'lng': -3.656384670107277},\n",
       "   'southwest': {'lat': 40.39098842010728, 'lng': -3.659084329892721}}},\n",
       " {'location': {'lat': 40.39723, 'lng': -3.71623},\n",
       "  'viewport': {'northeast': {'lat': 40.39867742989272,\n",
       "    'lng': -3.714950070107278},\n",
       "   'southwest': {'lat': 40.39597777010728, 'lng': -3.717649729892722}}},\n",
       " {'location': {'lat': 40.3986471, 'lng': -3.6719319},\n",
       "  'viewport': {'northeast': {'lat': 40.39994257989272,\n",
       "    'lng': -3.670630420107278},\n",
       "   'southwest': {'lat': 40.39724292010728, 'lng': -3.673330079892722}}},\n",
       " {'location': {'lat': 40.3931765, 'lng': -3.7215664},\n",
       "  'viewport': {'northeast': {'lat': 40.39456337989272,\n",
       "    'lng': -3.720298970107279},\n",
       "   'southwest': {'lat': 40.39186372010727, 'lng': -3.722998629892722}}},\n",
       " {'location': {'lat': 40.3802883, 'lng': -3.7321542},\n",
       "  'viewport': {'northeast': {'lat': 40.38159737989272,\n",
       "    'lng': -3.730716270107278},\n",
       "   'southwest': {'lat': 40.37889772010728, 'lng': -3.733415929892722}}},\n",
       " {'location': {'lat': 40.348639, 'lng': -3.705017},\n",
       "  'viewport': {'northeast': {'lat': 40.34996167989272,\n",
       "    'lng': -3.703668720107278},\n",
       "   'southwest': {'lat': 40.34726202010728, 'lng': -3.706368379892722}}},\n",
       " {'location': {'lat': 40.4277688, 'lng': -3.7011095},\n",
       "  'viewport': {'northeast': {'lat': 40.42912807989272,\n",
       "    'lng': -3.699717770107278},\n",
       "   'southwest': {'lat': 40.42642842010728, 'lng': -3.702417429892721}}}]"
      ]
     },
     "execution_count": 11,
     "metadata": {},
     "output_type": "execute_result"
    }
   ],
   "source": []
  },
  {
   "cell_type": "code",
   "execution_count": null,
   "metadata": {},
   "outputs": [],
   "source": []
  }
 ],
 "metadata": {
  "kernelspec": {
   "display_name": "Python 3",
   "language": "python",
   "name": "python3"
  },
  "language_info": {
   "codemirror_mode": {
    "name": "ipython",
    "version": 3
   },
   "file_extension": ".py",
   "mimetype": "text/x-python",
   "name": "python",
   "nbconvert_exporter": "python",
   "pygments_lexer": "ipython3",
   "version": "3.7.5rc1"
  }
 },
 "nbformat": 4,
 "nbformat_minor": 2
}

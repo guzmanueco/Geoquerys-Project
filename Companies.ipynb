{
 "cells": [
  {
   "cell_type": "code",
   "execution_count": 131,
   "metadata": {},
   "outputs": [],
   "source": [
    "from pymongo import MongoClient\n",
    "import pandas as pd\n",
    "import folium"
   ]
  },
  {
   "cell_type": "code",
   "execution_count": 132,
   "metadata": {},
   "outputs": [],
   "source": [
    "def connectCollection(database, collection):\n",
    "    client = MongoClient()\n",
    "    db = client[database]\n",
    "    coll = db[collection]\n",
    "    return db, coll"
   ]
  },
  {
   "cell_type": "code",
   "execution_count": 133,
   "metadata": {},
   "outputs": [],
   "source": [
    "db, coll = connectCollection('companies','companies')"
   ]
  },
  {
   "cell_type": "code",
   "execution_count": 134,
   "metadata": {},
   "outputs": [],
   "source": [
    "companies=list(coll.find())\n",
    "\n",
    "df=pd.DataFrame(companies)"
   ]
  },
  {
   "cell_type": "code",
   "execution_count": 135,
   "metadata": {},
   "outputs": [
    {
     "name": "stdout",
     "output_type": "stream",
     "text": [
      "{'security', 'travel', 'semiconductor', 'software', 'automotive', 'analytics', 'real_estate', 'enterprise', 'other', 'nanotech', 'social', 'web', 'photo_video', 'health', 'biotech', 'design', 'education', 'cleantech', 'public_relations', 'network_hosting', 'music', 'legal', 'news', 'transportation', 'local', 'finance', 'mobile', 'hospitality', 'government', 'search', 'medical', 'messaging', None, 'fashion', 'nonprofit', 'sports', 'games_video', 'hardware', 'manufacturing', 'advertising', 'consulting', 'ecommerce'}\n"
     ]
    }
   ],
   "source": [
    "print(set(df.category_code))"
   ]
  },
  {
   "cell_type": "code",
   "execution_count": 136,
   "metadata": {},
   "outputs": [],
   "source": [
    "tech_companies=list(coll.find({\"$and\" : [{\"$or\":[{\"category_code\": 'web'},{'category_code':'analytics'},\n",
    "                                                 {\"category_code\": 'software'},{\"category_code\": 'hardware'}]}, \n",
    "                                         {\"offices.city\": \"New York\"}]}))\n",
    "companies_df=pd.DataFrame(tech_companies)"
   ]
  },
  {
   "cell_type": "code",
   "execution_count": 137,
   "metadata": {},
   "outputs": [],
   "source": [
    "def getLocation(comp):\n",
    "    longitude = comp['offices'][0]['longitude']\n",
    "    latitude = comp['offices'][0]['latitude']\n",
    "    loc = {\n",
    "        'type':'Point',\n",
    "        'coordinates':[latitude, longitude]\n",
    "    }\n",
    "    return loc"
   ]
  },
  {
   "cell_type": "code",
   "execution_count": 138,
   "metadata": {},
   "outputs": [],
   "source": [
    "for e in tech_companies:\n",
    "    value={\"$set\" : {\"loc\": getLocation(e)}}\n",
    "    coll.update_one(e,value)"
   ]
  },
  {
   "cell_type": "code",
   "execution_count": 165,
   "metadata": {},
   "outputs": [],
   "source": [
    "db, coll = connectCollection('companies','companies')"
   ]
  },
  {
   "cell_type": "code",
   "execution_count": 166,
   "metadata": {},
   "outputs": [
    {
     "name": "stdout",
     "output_type": "stream",
     "text": [
      "0      {'type': 'Point', 'coordinates': [47.603122, -...\n",
      "1      {'type': 'Point', 'coordinates': [40.757725, -...\n",
      "2      {'type': 'Point', 'coordinates': [40.72604, -7...\n",
      "3      {'type': 'Point', 'coordinates': [37.393679, -...\n",
      "4      {'type': 'Point', 'coordinates': [40.736416, -...\n",
      "                             ...                        \n",
      "296    {'type': 'Point', 'coordinates': [40.751804, -...\n",
      "297       {'type': 'Point', 'coordinates': [None, None]}\n",
      "298    {'type': 'Point', 'coordinates': [40.72616, -7...\n",
      "299    {'type': 'Point', 'coordinates': [40.72616, -7...\n",
      "300       {'type': 'Point', 'coordinates': [None, None]}\n",
      "Name: loc, Length: 301, dtype: object\n"
     ]
    },
    {
     "data": {
      "text/plain": [
       "0      {'type': 'Point', 'coordinates': [47.603122, -...\n",
       "1      {'type': 'Point', 'coordinates': [40.757725, -...\n",
       "2      {'type': 'Point', 'coordinates': [40.72604, -7...\n",
       "3      {'type': 'Point', 'coordinates': [37.393679, -...\n",
       "4      {'type': 'Point', 'coordinates': [40.736416, -...\n",
       "                             ...                        \n",
       "296    {'type': 'Point', 'coordinates': [40.751804, -...\n",
       "297       {'type': 'Point', 'coordinates': [None, None]}\n",
       "298    {'type': 'Point', 'coordinates': [40.72616, -7...\n",
       "299    {'type': 'Point', 'coordinates': [40.72616, -7...\n",
       "300       {'type': 'Point', 'coordinates': [None, None]}\n",
       "Name: loc, Length: 301, dtype: object"
      ]
     },
     "execution_count": 166,
     "metadata": {},
     "output_type": "execute_result"
    }
   ],
   "source": [
    "companies_df=pd.DataFrame(tech_companies)\n",
    "\n",
    "print(companies_df['loc'])\n",
    "\n",
    "companies_df['loc']"
   ]
  },
  {
   "cell_type": "code",
   "execution_count": 167,
   "metadata": {},
   "outputs": [
    {
     "data": {
      "text/html": [
       "<div>\n",
       "<style scoped>\n",
       "    .dataframe tbody tr th:only-of-type {\n",
       "        vertical-align: middle;\n",
       "    }\n",
       "\n",
       "    .dataframe tbody tr th {\n",
       "        vertical-align: top;\n",
       "    }\n",
       "\n",
       "    .dataframe thead th {\n",
       "        text-align: right;\n",
       "    }\n",
       "</style>\n",
       "<table border=\"1\" class=\"dataframe\">\n",
       "  <thead>\n",
       "    <tr style=\"text-align: right;\">\n",
       "      <th></th>\n",
       "      <th>name</th>\n",
       "      <th>loc</th>\n",
       "    </tr>\n",
       "  </thead>\n",
       "  <tbody>\n",
       "    <tr>\n",
       "      <th>0</th>\n",
       "      <td>Wetpaint</td>\n",
       "      <td>{'type': 'Point', 'coordinates': [47.603122, -...</td>\n",
       "    </tr>\n",
       "    <tr>\n",
       "      <th>1</th>\n",
       "      <td>Viacom</td>\n",
       "      <td>{'type': 'Point', 'coordinates': [40.757725, -...</td>\n",
       "    </tr>\n",
       "    <tr>\n",
       "      <th>2</th>\n",
       "      <td>Meetup</td>\n",
       "      <td>{'type': 'Point', 'coordinates': [40.72604, -7...</td>\n",
       "    </tr>\n",
       "    <tr>\n",
       "      <th>3</th>\n",
       "      <td>Meebo</td>\n",
       "      <td>{'type': 'Point', 'coordinates': [37.393679, -...</td>\n",
       "    </tr>\n",
       "    <tr>\n",
       "      <th>4</th>\n",
       "      <td>Forbes</td>\n",
       "      <td>{'type': 'Point', 'coordinates': [40.736416, -...</td>\n",
       "    </tr>\n",
       "    <tr>\n",
       "      <th>...</th>\n",
       "      <td>...</td>\n",
       "      <td>...</td>\n",
       "    </tr>\n",
       "    <tr>\n",
       "      <th>296</th>\n",
       "      <td>Datum Legal</td>\n",
       "      <td>{'type': 'Point', 'coordinates': [40.751804, -...</td>\n",
       "    </tr>\n",
       "    <tr>\n",
       "      <th>297</th>\n",
       "      <td>MedTrackAlert</td>\n",
       "      <td>{'type': 'Point', 'coordinates': [None, None]}</td>\n",
       "    </tr>\n",
       "    <tr>\n",
       "      <th>298</th>\n",
       "      <td>Vertro</td>\n",
       "      <td>{'type': 'Point', 'coordinates': [40.72616, -7...</td>\n",
       "    </tr>\n",
       "    <tr>\n",
       "      <th>299</th>\n",
       "      <td>ALOT</td>\n",
       "      <td>{'type': 'Point', 'coordinates': [40.72616, -7...</td>\n",
       "    </tr>\n",
       "    <tr>\n",
       "      <th>300</th>\n",
       "      <td>DocASAP</td>\n",
       "      <td>{'type': 'Point', 'coordinates': [None, None]}</td>\n",
       "    </tr>\n",
       "  </tbody>\n",
       "</table>\n",
       "<p>301 rows × 2 columns</p>\n",
       "</div>"
      ],
      "text/plain": [
       "              name                                                loc\n",
       "0         Wetpaint  {'type': 'Point', 'coordinates': [47.603122, -...\n",
       "1           Viacom  {'type': 'Point', 'coordinates': [40.757725, -...\n",
       "2           Meetup  {'type': 'Point', 'coordinates': [40.72604, -7...\n",
       "3            Meebo  {'type': 'Point', 'coordinates': [37.393679, -...\n",
       "4           Forbes  {'type': 'Point', 'coordinates': [40.736416, -...\n",
       "..             ...                                                ...\n",
       "296    Datum Legal  {'type': 'Point', 'coordinates': [40.751804, -...\n",
       "297  MedTrackAlert     {'type': 'Point', 'coordinates': [None, None]}\n",
       "298         Vertro  {'type': 'Point', 'coordinates': [40.72616, -7...\n",
       "299           ALOT  {'type': 'Point', 'coordinates': [40.72616, -7...\n",
       "300        DocASAP     {'type': 'Point', 'coordinates': [None, None]}\n",
       "\n",
       "[301 rows x 2 columns]"
      ]
     },
     "execution_count": 167,
     "metadata": {},
     "output_type": "execute_result"
    }
   ],
   "source": [
    "companies_df=companies_df[['name','loc']]\n",
    "\n",
    "companies_df"
   ]
  },
  {
   "cell_type": "code",
   "execution_count": 128,
   "metadata": {},
   "outputs": [
    {
     "name": "stdout",
     "output_type": "stream",
     "text": [
      "True\n"
     ]
    }
   ],
   "source": [
    "for i in range(len(companies_df['loc'])):\n",
    "    if companies_df.loc[i]['loc']==[None,None]:\n",
    "        print(True)\n",
    "        break"
   ]
  },
  {
   "cell_type": "code",
   "execution_count": 168,
   "metadata": {},
   "outputs": [
    {
     "data": {
      "text/html": [
       "<div>\n",
       "<style scoped>\n",
       "    .dataframe tbody tr th:only-of-type {\n",
       "        vertical-align: middle;\n",
       "    }\n",
       "\n",
       "    .dataframe tbody tr th {\n",
       "        vertical-align: top;\n",
       "    }\n",
       "\n",
       "    .dataframe thead th {\n",
       "        text-align: right;\n",
       "    }\n",
       "</style>\n",
       "<table border=\"1\" class=\"dataframe\">\n",
       "  <thead>\n",
       "    <tr style=\"text-align: right;\">\n",
       "      <th></th>\n",
       "      <th>name</th>\n",
       "      <th>loc</th>\n",
       "    </tr>\n",
       "  </thead>\n",
       "  <tbody>\n",
       "    <tr>\n",
       "      <th>0</th>\n",
       "      <td>Wetpaint</td>\n",
       "      <td>{'type': 'Point', 'coordinates': [47.603122, -...</td>\n",
       "    </tr>\n",
       "    <tr>\n",
       "      <th>1</th>\n",
       "      <td>Viacom</td>\n",
       "      <td>{'type': 'Point', 'coordinates': [40.757725, -...</td>\n",
       "    </tr>\n",
       "    <tr>\n",
       "      <th>2</th>\n",
       "      <td>Meetup</td>\n",
       "      <td>{'type': 'Point', 'coordinates': [40.72604, -7...</td>\n",
       "    </tr>\n",
       "    <tr>\n",
       "      <th>3</th>\n",
       "      <td>Meebo</td>\n",
       "      <td>{'type': 'Point', 'coordinates': [37.393679, -...</td>\n",
       "    </tr>\n",
       "    <tr>\n",
       "      <th>4</th>\n",
       "      <td>Forbes</td>\n",
       "      <td>{'type': 'Point', 'coordinates': [40.736416, -...</td>\n",
       "    </tr>\n",
       "    <tr>\n",
       "      <th>...</th>\n",
       "      <td>...</td>\n",
       "      <td>...</td>\n",
       "    </tr>\n",
       "    <tr>\n",
       "      <th>294</th>\n",
       "      <td>Sword</td>\n",
       "      <td>{'type': 'Point', 'coordinates': [40.7029757, ...</td>\n",
       "    </tr>\n",
       "    <tr>\n",
       "      <th>295</th>\n",
       "      <td>smartFOCUS</td>\n",
       "      <td>{'type': 'Point', 'coordinates': [51.4525116, ...</td>\n",
       "    </tr>\n",
       "    <tr>\n",
       "      <th>296</th>\n",
       "      <td>Datum Legal</td>\n",
       "      <td>{'type': 'Point', 'coordinates': [40.751804, -...</td>\n",
       "    </tr>\n",
       "    <tr>\n",
       "      <th>298</th>\n",
       "      <td>Vertro</td>\n",
       "      <td>{'type': 'Point', 'coordinates': [40.72616, -7...</td>\n",
       "    </tr>\n",
       "    <tr>\n",
       "      <th>299</th>\n",
       "      <td>ALOT</td>\n",
       "      <td>{'type': 'Point', 'coordinates': [40.72616, -7...</td>\n",
       "    </tr>\n",
       "  </tbody>\n",
       "</table>\n",
       "<p>235 rows × 2 columns</p>\n",
       "</div>"
      ],
      "text/plain": [
       "            name                                                loc\n",
       "0       Wetpaint  {'type': 'Point', 'coordinates': [47.603122, -...\n",
       "1         Viacom  {'type': 'Point', 'coordinates': [40.757725, -...\n",
       "2         Meetup  {'type': 'Point', 'coordinates': [40.72604, -7...\n",
       "3          Meebo  {'type': 'Point', 'coordinates': [37.393679, -...\n",
       "4         Forbes  {'type': 'Point', 'coordinates': [40.736416, -...\n",
       "..           ...                                                ...\n",
       "294        Sword  {'type': 'Point', 'coordinates': [40.7029757, ...\n",
       "295   smartFOCUS  {'type': 'Point', 'coordinates': [51.4525116, ...\n",
       "296  Datum Legal  {'type': 'Point', 'coordinates': [40.751804, -...\n",
       "298       Vertro  {'type': 'Point', 'coordinates': [40.72616, -7...\n",
       "299         ALOT  {'type': 'Point', 'coordinates': [40.72616, -7...\n",
       "\n",
       "[235 rows x 2 columns]"
      ]
     },
     "execution_count": 168,
     "metadata": {},
     "output_type": "execute_result"
    }
   ],
   "source": [
    "companies_df=companies_df.loc[companies_df['loc']!={'type': 'Point', 'coordinates': [None, None]}]\n",
    "\n",
    "companies_df"
   ]
  },
  {
   "cell_type": "code",
   "execution_count": 14,
   "metadata": {},
   "outputs": [],
   "source": [
    "#para crear nuevas collections\n",
    "myclient = MongoClient(\"mongodb://localhost/\")\n",
    "mydb = myclient[\"companies\"]\n",
    "mycol = mydb[\"Finding_best_place\"]\n",
    "#para importar el contenido de un csv a mongo\n",
    "#mongoimport --db companies --collection finding_location --type csv --file Companies.csv --headerline"
   ]
  },
  {
   "cell_type": "code",
   "execution_count": 169,
   "metadata": {},
   "outputs": [],
   "source": [
    "companies_df=companies_df.loc[:100]"
   ]
  },
  {
   "cell_type": "code",
   "execution_count": 164,
   "metadata": {},
   "outputs": [],
   "source": [
    "companies_df['Category']='Company'\n",
    "\n",
    "companies_df=companies_df[['name','loc','Category']]\n",
    "\n",
    "companies_df[['name','loc','Category']].to_json('companies.json',orient='records')"
   ]
  },
  {
   "cell_type": "code",
   "execution_count": 161,
   "metadata": {},
   "outputs": [],
   "source": [
    "for i in companies_df.index:\n",
    "    if type(companies_df.loc[i]['loc']['coordinates'][0])!=float:\n",
    "        print(companies_df.loc[i])"
   ]
  },
  {
   "cell_type": "code",
   "execution_count": 160,
   "metadata": {},
   "outputs": [
    {
     "data": {
      "text/plain": [
       "Int64Index([  0,   1,   2,   3,   4,   5,   7,   8,   9,  10,\n",
       "            ...\n",
       "            283, 285, 288, 289, 293, 294, 295, 296, 298, 299],\n",
       "           dtype='int64', length=235)"
      ]
     },
     "execution_count": 160,
     "metadata": {},
     "output_type": "execute_result"
    }
   ],
   "source": [
    "companies_df.index"
   ]
  },
  {
   "cell_type": "code",
   "execution_count": null,
   "metadata": {},
   "outputs": [],
   "source": []
  },
  {
   "cell_type": "code",
   "execution_count": null,
   "metadata": {},
   "outputs": [],
   "source": []
  },
  {
   "cell_type": "code",
   "execution_count": null,
   "metadata": {},
   "outputs": [],
   "source": []
  },
  {
   "cell_type": "code",
   "execution_count": null,
   "metadata": {},
   "outputs": [],
   "source": []
  },
  {
   "cell_type": "code",
   "execution_count": null,
   "metadata": {},
   "outputs": [],
   "source": [
    "map_city = folium.Map(location=(40.7142700, -74.0059700), zoom_start=12)\n",
    "map_city"
   ]
  },
  {
   "cell_type": "code",
   "execution_count": null,
   "metadata": {},
   "outputs": [],
   "source": [
    "for e in coordinates_comp:\n",
    "    folium.Marker(e, radius=2,\n",
    "                    icon=folium.Icon(prefix='fa',icon='cloud',color='red'), \n",
    "                   ).add_to(map_city)"
   ]
  },
  {
   "cell_type": "code",
   "execution_count": null,
   "metadata": {},
   "outputs": [],
   "source": [
    "map_city"
   ]
  },
  {
   "cell_type": "code",
   "execution_count": 33,
   "metadata": {},
   "outputs": [
    {
     "data": {
      "text/html": [
       "<div>\n",
       "<style scoped>\n",
       "    .dataframe tbody tr th:only-of-type {\n",
       "        vertical-align: middle;\n",
       "    }\n",
       "\n",
       "    .dataframe tbody tr th {\n",
       "        vertical-align: top;\n",
       "    }\n",
       "\n",
       "    .dataframe thead th {\n",
       "        text-align: right;\n",
       "    }\n",
       "</style>\n",
       "<table border=\"1\" class=\"dataframe\">\n",
       "  <thead>\n",
       "    <tr style=\"text-align: right;\">\n",
       "      <th></th>\n",
       "      <th>_id</th>\n",
       "      <th>name</th>\n",
       "      <th>loc</th>\n",
       "      <th>Category</th>\n",
       "    </tr>\n",
       "  </thead>\n",
       "  <tbody>\n",
       "    <tr>\n",
       "      <th>0</th>\n",
       "      <td>52cdef7c4bab8bd675297d8a</td>\n",
       "      <td>Wetpaint</td>\n",
       "      <td>{'type': 'Point', 'coordinates': [-122.333253,...</td>\n",
       "      <td>Company</td>\n",
       "    </tr>\n",
       "    <tr>\n",
       "      <th>1</th>\n",
       "      <td>52cdef7c4bab8bd675297d9f</td>\n",
       "      <td>Viacom</td>\n",
       "      <td>{'type': 'Point', 'coordinates': [-73.986011, ...</td>\n",
       "      <td>Company</td>\n",
       "    </tr>\n",
       "    <tr>\n",
       "      <th>2</th>\n",
       "      <td>52cdef7c4bab8bd675297db2</td>\n",
       "      <td>Meetup</td>\n",
       "      <td>{'type': 'Point', 'coordinates': [-73.995722, ...</td>\n",
       "      <td>Company</td>\n",
       "    </tr>\n",
       "    <tr>\n",
       "      <th>3</th>\n",
       "      <td>52cdef7c4bab8bd675297e09</td>\n",
       "      <td>Meebo</td>\n",
       "      <td>{'type': 'Point', 'coordinates': [-122.079017,...</td>\n",
       "      <td>Company</td>\n",
       "    </tr>\n",
       "    <tr>\n",
       "      <th>4</th>\n",
       "      <td>52cdef7c4bab8bd675297e71</td>\n",
       "      <td>Forbes</td>\n",
       "      <td>{'type': 'Point', 'coordinates': [-73.993302, ...</td>\n",
       "      <td>Company</td>\n",
       "    </tr>\n",
       "    <tr>\n",
       "      <th>5</th>\n",
       "      <td>52cdef7c4bab8bd675297e96</td>\n",
       "      <td>AOL</td>\n",
       "      <td>{'type': 'Point', 'coordinates': [-73.9919311,...</td>\n",
       "      <td>Company</td>\n",
       "    </tr>\n",
       "    <tr>\n",
       "      <th>7</th>\n",
       "      <td>52cdef7c4bab8bd675297ee2</td>\n",
       "      <td>Veotag</td>\n",
       "      <td>{'type': 'Point', 'coordinates': [-73.98546, 4...</td>\n",
       "      <td>Company</td>\n",
       "    </tr>\n",
       "    <tr>\n",
       "      <th>8</th>\n",
       "      <td>52cdef7c4bab8bd675297ef2</td>\n",
       "      <td>ContextWeb</td>\n",
       "      <td>{'type': 'Point', 'coordinates': [-74.010808, ...</td>\n",
       "      <td>Company</td>\n",
       "    </tr>\n",
       "    <tr>\n",
       "      <th>9</th>\n",
       "      <td>52cdef7c4bab8bd675297f14</td>\n",
       "      <td>Heavy</td>\n",
       "      <td>{'type': 'Point', 'coordinates': [-73.98962, 4...</td>\n",
       "      <td>Company</td>\n",
       "    </tr>\n",
       "    <tr>\n",
       "      <th>10</th>\n",
       "      <td>52cdef7c4bab8bd675297f16</td>\n",
       "      <td>Buzzmetrics</td>\n",
       "      <td>{'type': 'Point', 'coordinates': [-73.991933, ...</td>\n",
       "      <td>Company</td>\n",
       "    </tr>\n",
       "    <tr>\n",
       "      <th>11</th>\n",
       "      <td>52cdef7c4bab8bd675297f15</td>\n",
       "      <td>Nielsen</td>\n",
       "      <td>{'type': 'Point', 'coordinates': [-73.991933, ...</td>\n",
       "      <td>Company</td>\n",
       "    </tr>\n",
       "    <tr>\n",
       "      <th>12</th>\n",
       "      <td>52cdef7c4bab8bd675297f1f</td>\n",
       "      <td>Burnlounge</td>\n",
       "      <td>{'type': 'Point', 'coordinates': [-73.993553, ...</td>\n",
       "      <td>Company</td>\n",
       "    </tr>\n",
       "  </tbody>\n",
       "</table>\n",
       "</div>"
      ],
      "text/plain": [
       "                         _id         name  \\\n",
       "0   52cdef7c4bab8bd675297d8a     Wetpaint   \n",
       "1   52cdef7c4bab8bd675297d9f       Viacom   \n",
       "2   52cdef7c4bab8bd675297db2       Meetup   \n",
       "3   52cdef7c4bab8bd675297e09        Meebo   \n",
       "4   52cdef7c4bab8bd675297e71       Forbes   \n",
       "5   52cdef7c4bab8bd675297e96          AOL   \n",
       "7   52cdef7c4bab8bd675297ee2       Veotag   \n",
       "8   52cdef7c4bab8bd675297ef2   ContextWeb   \n",
       "9   52cdef7c4bab8bd675297f14        Heavy   \n",
       "10  52cdef7c4bab8bd675297f16  Buzzmetrics   \n",
       "11  52cdef7c4bab8bd675297f15      Nielsen   \n",
       "12  52cdef7c4bab8bd675297f1f   Burnlounge   \n",
       "\n",
       "                                                  loc Category  \n",
       "0   {'type': 'Point', 'coordinates': [-122.333253,...  Company  \n",
       "1   {'type': 'Point', 'coordinates': [-73.986011, ...  Company  \n",
       "2   {'type': 'Point', 'coordinates': [-73.995722, ...  Company  \n",
       "3   {'type': 'Point', 'coordinates': [-122.079017,...  Company  \n",
       "4   {'type': 'Point', 'coordinates': [-73.993302, ...  Company  \n",
       "5   {'type': 'Point', 'coordinates': [-73.9919311,...  Company  \n",
       "7   {'type': 'Point', 'coordinates': [-73.98546, 4...  Company  \n",
       "8   {'type': 'Point', 'coordinates': [-74.010808, ...  Company  \n",
       "9   {'type': 'Point', 'coordinates': [-73.98962, 4...  Company  \n",
       "10  {'type': 'Point', 'coordinates': [-73.991933, ...  Company  \n",
       "11  {'type': 'Point', 'coordinates': [-73.991933, ...  Company  \n",
       "12  {'type': 'Point', 'coordinates': [-73.993553, ...  Company  "
      ]
     },
     "execution_count": 33,
     "metadata": {},
     "output_type": "execute_result"
    }
   ],
   "source": [
    "companies_df[:12]"
   ]
  }
 ],
 "metadata": {
  "kernelspec": {
   "display_name": "Python 3",
   "language": "python",
   "name": "python3"
  },
  "language_info": {
   "codemirror_mode": {
    "name": "ipython",
    "version": 3
   },
   "file_extension": ".py",
   "mimetype": "text/x-python",
   "name": "python",
   "nbconvert_exporter": "python",
   "pygments_lexer": "ipython3",
   "version": "3.7.5rc1"
  }
 },
 "nbformat": 4,
 "nbformat_minor": 2
}

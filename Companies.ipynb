{
 "cells": [
  {
   "cell_type": "code",
   "execution_count": 1,
   "metadata": {},
   "outputs": [],
   "source": [
    "from pymongo import MongoClient\n",
    "import pandas as pd\n",
    "import folium"
   ]
  },
  {
   "cell_type": "code",
   "execution_count": 2,
   "metadata": {},
   "outputs": [],
   "source": [
    "def connectCollection(database, collection):\n",
    "    client = MongoClient()\n",
    "    db = client[database]\n",
    "    coll = db[collection]\n",
    "    return db, coll"
   ]
  },
  {
   "cell_type": "code",
   "execution_count": 3,
   "metadata": {},
   "outputs": [],
   "source": [
    "db, coll = connectCollection('companies','companies')"
   ]
  },
  {
   "cell_type": "code",
   "execution_count": 4,
   "metadata": {},
   "outputs": [],
   "source": [
    "companies=list(coll.find())\n",
    "\n",
    "df=pd.DataFrame(companies)"
   ]
  },
  {
   "cell_type": "code",
   "execution_count": 5,
   "metadata": {},
   "outputs": [
    {
     "name": "stdout",
     "output_type": "stream",
     "text": [
      "{'education', 'local', 'security', 'health', 'other', 'enterprise', 'cleantech', 'nanotech', 'web', 'transportation', 'public_relations', 'advertising', 'semiconductor', 'fashion', 'mobile', 'medical', 'automotive', 'social', 'real_estate', 'design', 'consulting', 'legal', 'hospitality', 'hardware', 'network_hosting', 'software', 'finance', 'search', 'analytics', 'manufacturing', 'games_video', 'nonprofit', 'travel', 'biotech', 'music', None, 'sports', 'photo_video', 'messaging', 'ecommerce', 'news', 'government'}\n"
     ]
    }
   ],
   "source": [
    "print(set(df.category_code))"
   ]
  },
  {
   "cell_type": "code",
   "execution_count": 6,
   "metadata": {},
   "outputs": [],
   "source": [
    "tech_companies=list(coll.find({\"$and\" : [{\"$or\":[{\"category_code\": 'web'},{'category_code':'analytics'},\n",
    "                                                 {\"category_code\": 'software'},{\"category_code\": 'hardware'}]}, \n",
    "                                         {\"offices.city\": \"New York\"}]}))\n",
    "companies_df=pd.DataFrame(tech_companies)"
   ]
  },
  {
   "cell_type": "code",
   "execution_count": 7,
   "metadata": {},
   "outputs": [],
   "source": [
    "def getLocation(comp):\n",
    "    longitude = comp['offices'][0]['longitude']\n",
    "    latitude = comp['offices'][0]['latitude']\n",
    "    loc = {\n",
    "        'type':'Point',\n",
    "        'coordinates':[latitude, longitude]\n",
    "    }\n",
    "    return loc"
   ]
  },
  {
   "cell_type": "code",
   "execution_count": 8,
   "metadata": {},
   "outputs": [],
   "source": [
    "for e in tech_companies:\n",
    "    value={\"$set\" : {\"loc\": getLocation(e)}}\n",
    "    coll.update_one(e,value)"
   ]
  },
  {
   "cell_type": "code",
   "execution_count": 9,
   "metadata": {},
   "outputs": [],
   "source": [
    "db, coll = connectCollection('companies','companies')"
   ]
  },
  {
   "cell_type": "code",
   "execution_count": 10,
   "metadata": {},
   "outputs": [
    {
     "name": "stdout",
     "output_type": "stream",
     "text": [
      "0      {'type': 'Point', 'coordinates': [47.603122, -...\n",
      "1      {'type': 'Point', 'coordinates': [40.757725, -...\n",
      "2      {'type': 'Point', 'coordinates': [40.72604, -7...\n",
      "3      {'type': 'Point', 'coordinates': [37.393679, -...\n",
      "4      {'type': 'Point', 'coordinates': [40.736416, -...\n",
      "                             ...                        \n",
      "296    {'type': 'Point', 'coordinates': [40.751804, -...\n",
      "297       {'type': 'Point', 'coordinates': [None, None]}\n",
      "298    {'type': 'Point', 'coordinates': [40.72616, -7...\n",
      "299    {'type': 'Point', 'coordinates': [40.72616, -7...\n",
      "300       {'type': 'Point', 'coordinates': [None, None]}\n",
      "Name: loc, Length: 301, dtype: object\n"
     ]
    },
    {
     "data": {
      "text/plain": [
       "0      {'type': 'Point', 'coordinates': [47.603122, -...\n",
       "1      {'type': 'Point', 'coordinates': [40.757725, -...\n",
       "2      {'type': 'Point', 'coordinates': [40.72604, -7...\n",
       "3      {'type': 'Point', 'coordinates': [37.393679, -...\n",
       "4      {'type': 'Point', 'coordinates': [40.736416, -...\n",
       "                             ...                        \n",
       "296    {'type': 'Point', 'coordinates': [40.751804, -...\n",
       "297       {'type': 'Point', 'coordinates': [None, None]}\n",
       "298    {'type': 'Point', 'coordinates': [40.72616, -7...\n",
       "299    {'type': 'Point', 'coordinates': [40.72616, -7...\n",
       "300       {'type': 'Point', 'coordinates': [None, None]}\n",
       "Name: loc, Length: 301, dtype: object"
      ]
     },
     "execution_count": 10,
     "metadata": {},
     "output_type": "execute_result"
    }
   ],
   "source": [
    "companies_df=pd.DataFrame(tech_companies)\n",
    "\n",
    "print(companies_df['loc'])\n",
    "\n",
    "companies_df['loc']"
   ]
  },
  {
   "cell_type": "code",
   "execution_count": 11,
   "metadata": {},
   "outputs": [
    {
     "data": {
      "text/html": [
       "<div>\n",
       "<style scoped>\n",
       "    .dataframe tbody tr th:only-of-type {\n",
       "        vertical-align: middle;\n",
       "    }\n",
       "\n",
       "    .dataframe tbody tr th {\n",
       "        vertical-align: top;\n",
       "    }\n",
       "\n",
       "    .dataframe thead th {\n",
       "        text-align: right;\n",
       "    }\n",
       "</style>\n",
       "<table border=\"1\" class=\"dataframe\">\n",
       "  <thead>\n",
       "    <tr style=\"text-align: right;\">\n",
       "      <th></th>\n",
       "      <th>name</th>\n",
       "      <th>loc</th>\n",
       "    </tr>\n",
       "  </thead>\n",
       "  <tbody>\n",
       "    <tr>\n",
       "      <th>0</th>\n",
       "      <td>Wetpaint</td>\n",
       "      <td>{'type': 'Point', 'coordinates': [47.603122, -...</td>\n",
       "    </tr>\n",
       "    <tr>\n",
       "      <th>1</th>\n",
       "      <td>Viacom</td>\n",
       "      <td>{'type': 'Point', 'coordinates': [40.757725, -...</td>\n",
       "    </tr>\n",
       "    <tr>\n",
       "      <th>2</th>\n",
       "      <td>Meetup</td>\n",
       "      <td>{'type': 'Point', 'coordinates': [40.72604, -7...</td>\n",
       "    </tr>\n",
       "    <tr>\n",
       "      <th>3</th>\n",
       "      <td>Meebo</td>\n",
       "      <td>{'type': 'Point', 'coordinates': [37.393679, -...</td>\n",
       "    </tr>\n",
       "    <tr>\n",
       "      <th>4</th>\n",
       "      <td>Forbes</td>\n",
       "      <td>{'type': 'Point', 'coordinates': [40.736416, -...</td>\n",
       "    </tr>\n",
       "    <tr>\n",
       "      <th>...</th>\n",
       "      <td>...</td>\n",
       "      <td>...</td>\n",
       "    </tr>\n",
       "    <tr>\n",
       "      <th>296</th>\n",
       "      <td>Datum Legal</td>\n",
       "      <td>{'type': 'Point', 'coordinates': [40.751804, -...</td>\n",
       "    </tr>\n",
       "    <tr>\n",
       "      <th>297</th>\n",
       "      <td>MedTrackAlert</td>\n",
       "      <td>{'type': 'Point', 'coordinates': [None, None]}</td>\n",
       "    </tr>\n",
       "    <tr>\n",
       "      <th>298</th>\n",
       "      <td>Vertro</td>\n",
       "      <td>{'type': 'Point', 'coordinates': [40.72616, -7...</td>\n",
       "    </tr>\n",
       "    <tr>\n",
       "      <th>299</th>\n",
       "      <td>ALOT</td>\n",
       "      <td>{'type': 'Point', 'coordinates': [40.72616, -7...</td>\n",
       "    </tr>\n",
       "    <tr>\n",
       "      <th>300</th>\n",
       "      <td>DocASAP</td>\n",
       "      <td>{'type': 'Point', 'coordinates': [None, None]}</td>\n",
       "    </tr>\n",
       "  </tbody>\n",
       "</table>\n",
       "<p>301 rows × 2 columns</p>\n",
       "</div>"
      ],
      "text/plain": [
       "              name                                                loc\n",
       "0         Wetpaint  {'type': 'Point', 'coordinates': [47.603122, -...\n",
       "1           Viacom  {'type': 'Point', 'coordinates': [40.757725, -...\n",
       "2           Meetup  {'type': 'Point', 'coordinates': [40.72604, -7...\n",
       "3            Meebo  {'type': 'Point', 'coordinates': [37.393679, -...\n",
       "4           Forbes  {'type': 'Point', 'coordinates': [40.736416, -...\n",
       "..             ...                                                ...\n",
       "296    Datum Legal  {'type': 'Point', 'coordinates': [40.751804, -...\n",
       "297  MedTrackAlert     {'type': 'Point', 'coordinates': [None, None]}\n",
       "298         Vertro  {'type': 'Point', 'coordinates': [40.72616, -7...\n",
       "299           ALOT  {'type': 'Point', 'coordinates': [40.72616, -7...\n",
       "300        DocASAP     {'type': 'Point', 'coordinates': [None, None]}\n",
       "\n",
       "[301 rows x 2 columns]"
      ]
     },
     "execution_count": 11,
     "metadata": {},
     "output_type": "execute_result"
    }
   ],
   "source": [
    "companies_df=companies_df[['name','loc']]\n",
    "\n",
    "companies_df"
   ]
  },
  {
   "cell_type": "code",
   "execution_count": 12,
   "metadata": {},
   "outputs": [],
   "source": [
    "for i in range(len(companies_df['loc'])):\n",
    "    if companies_df.loc[i]['loc']==[None,None]:\n",
    "        print(True)\n",
    "        break"
   ]
  },
  {
   "cell_type": "code",
   "execution_count": 13,
   "metadata": {},
   "outputs": [
    {
     "data": {
      "text/html": [
       "<div>\n",
       "<style scoped>\n",
       "    .dataframe tbody tr th:only-of-type {\n",
       "        vertical-align: middle;\n",
       "    }\n",
       "\n",
       "    .dataframe tbody tr th {\n",
       "        vertical-align: top;\n",
       "    }\n",
       "\n",
       "    .dataframe thead th {\n",
       "        text-align: right;\n",
       "    }\n",
       "</style>\n",
       "<table border=\"1\" class=\"dataframe\">\n",
       "  <thead>\n",
       "    <tr style=\"text-align: right;\">\n",
       "      <th></th>\n",
       "      <th>name</th>\n",
       "      <th>loc</th>\n",
       "    </tr>\n",
       "  </thead>\n",
       "  <tbody>\n",
       "    <tr>\n",
       "      <th>0</th>\n",
       "      <td>Wetpaint</td>\n",
       "      <td>{'type': 'Point', 'coordinates': [47.603122, -...</td>\n",
       "    </tr>\n",
       "    <tr>\n",
       "      <th>1</th>\n",
       "      <td>Viacom</td>\n",
       "      <td>{'type': 'Point', 'coordinates': [40.757725, -...</td>\n",
       "    </tr>\n",
       "    <tr>\n",
       "      <th>2</th>\n",
       "      <td>Meetup</td>\n",
       "      <td>{'type': 'Point', 'coordinates': [40.72604, -7...</td>\n",
       "    </tr>\n",
       "    <tr>\n",
       "      <th>3</th>\n",
       "      <td>Meebo</td>\n",
       "      <td>{'type': 'Point', 'coordinates': [37.393679, -...</td>\n",
       "    </tr>\n",
       "    <tr>\n",
       "      <th>4</th>\n",
       "      <td>Forbes</td>\n",
       "      <td>{'type': 'Point', 'coordinates': [40.736416, -...</td>\n",
       "    </tr>\n",
       "    <tr>\n",
       "      <th>...</th>\n",
       "      <td>...</td>\n",
       "      <td>...</td>\n",
       "    </tr>\n",
       "    <tr>\n",
       "      <th>294</th>\n",
       "      <td>Sword</td>\n",
       "      <td>{'type': 'Point', 'coordinates': [40.7029757, ...</td>\n",
       "    </tr>\n",
       "    <tr>\n",
       "      <th>295</th>\n",
       "      <td>smartFOCUS</td>\n",
       "      <td>{'type': 'Point', 'coordinates': [51.4525116, ...</td>\n",
       "    </tr>\n",
       "    <tr>\n",
       "      <th>296</th>\n",
       "      <td>Datum Legal</td>\n",
       "      <td>{'type': 'Point', 'coordinates': [40.751804, -...</td>\n",
       "    </tr>\n",
       "    <tr>\n",
       "      <th>298</th>\n",
       "      <td>Vertro</td>\n",
       "      <td>{'type': 'Point', 'coordinates': [40.72616, -7...</td>\n",
       "    </tr>\n",
       "    <tr>\n",
       "      <th>299</th>\n",
       "      <td>ALOT</td>\n",
       "      <td>{'type': 'Point', 'coordinates': [40.72616, -7...</td>\n",
       "    </tr>\n",
       "  </tbody>\n",
       "</table>\n",
       "<p>235 rows × 2 columns</p>\n",
       "</div>"
      ],
      "text/plain": [
       "            name                                                loc\n",
       "0       Wetpaint  {'type': 'Point', 'coordinates': [47.603122, -...\n",
       "1         Viacom  {'type': 'Point', 'coordinates': [40.757725, -...\n",
       "2         Meetup  {'type': 'Point', 'coordinates': [40.72604, -7...\n",
       "3          Meebo  {'type': 'Point', 'coordinates': [37.393679, -...\n",
       "4         Forbes  {'type': 'Point', 'coordinates': [40.736416, -...\n",
       "..           ...                                                ...\n",
       "294        Sword  {'type': 'Point', 'coordinates': [40.7029757, ...\n",
       "295   smartFOCUS  {'type': 'Point', 'coordinates': [51.4525116, ...\n",
       "296  Datum Legal  {'type': 'Point', 'coordinates': [40.751804, -...\n",
       "298       Vertro  {'type': 'Point', 'coordinates': [40.72616, -7...\n",
       "299         ALOT  {'type': 'Point', 'coordinates': [40.72616, -7...\n",
       "\n",
       "[235 rows x 2 columns]"
      ]
     },
     "execution_count": 13,
     "metadata": {},
     "output_type": "execute_result"
    }
   ],
   "source": [
    "companies_df=companies_df.loc[companies_df['loc']!={'type': 'Point', 'coordinates': [None, None]}]\n",
    "\n",
    "companies_df"
   ]
  },
  {
   "cell_type": "code",
   "execution_count": 14,
   "metadata": {},
   "outputs": [],
   "source": [
    "#para crear nuevas collections\n",
    "myclient = MongoClient(\"mongodb://localhost/\")\n",
    "mydb = myclient[\"companies\"]\n",
    "mycol = mydb[\"Finding_best_place\"]\n",
    "#para importar el contenido de un csv a mongo\n",
    "#mongoimport --db companies --collection finding_location --type csv --file Companies.csv --headerline"
   ]
  },
  {
   "cell_type": "code",
   "execution_count": 15,
   "metadata": {},
   "outputs": [],
   "source": [
    "companies_df=companies_df.loc[:100]"
   ]
  },
  {
   "cell_type": "code",
   "execution_count": 21,
   "metadata": {},
   "outputs": [],
   "source": [
    "companies_df['Category']='Company'\n",
    "\n",
    "companies_df=companies_df[['name','loc','Category']]\n",
    "\n",
    "companies_df[['name','loc','Category']].to_json('Output/companies.json',orient='records')"
   ]
  },
  {
   "cell_type": "code",
   "execution_count": 17,
   "metadata": {},
   "outputs": [],
   "source": [
    "for i in companies_df.index:\n",
    "    if type(companies_df.loc[i]['loc']['coordinates'][0])!=float:\n",
    "        print(companies_df.loc[i])"
   ]
  },
  {
   "cell_type": "code",
   "execution_count": 18,
   "metadata": {},
   "outputs": [
    {
     "data": {
      "text/plain": [
       "Int64Index([  0,   1,   2,   3,   4,   5,   7,   8,   9,  10,  11,  12,  13,\n",
       "             14,  15,  16,  17,  18,  19,  22,  23,  24,  25,  26,  27,  28,\n",
       "             32,  33,  34,  35,  36,  37,  38,  39,  40,  41,  43,  44,  45,\n",
       "             46,  47,  48,  49,  50,  51,  52,  53,  54,  55,  57,  58,  59,\n",
       "             60,  61,  63,  64,  65,  66,  67,  68,  69,  70,  71,  72,  74,\n",
       "             75,  76,  78,  80,  81,  82,  83,  85,  87,  89,  90,  92,  93,\n",
       "             94,  95,  96,  97,  98,  99, 100],\n",
       "           dtype='int64')"
      ]
     },
     "execution_count": 18,
     "metadata": {},
     "output_type": "execute_result"
    }
   ],
   "source": [
    "companies_df.index"
   ]
  },
  {
   "cell_type": "code",
   "execution_count": null,
   "metadata": {},
   "outputs": [],
   "source": []
  },
  {
   "cell_type": "code",
   "execution_count": null,
   "metadata": {},
   "outputs": [],
   "source": []
  },
  {
   "cell_type": "code",
   "execution_count": null,
   "metadata": {},
   "outputs": [],
   "source": []
  },
  {
   "cell_type": "code",
   "execution_count": null,
   "metadata": {},
   "outputs": [],
   "source": []
  },
  {
   "cell_type": "code",
   "execution_count": 19,
   "metadata": {},
   "outputs": [
    {
     "data": {
      "text/html": [
       "<div style=\"width:100%;\"><div style=\"position:relative;width:100%;height:0;padding-bottom:60%;\"><iframe src=\"data:text/html;charset=utf-8;base64,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\" style=\"position:absolute;width:100%;height:100%;left:0;top:0;border:none !important;\" allowfullscreen webkitallowfullscreen mozallowfullscreen></iframe></div></div>"
      ],
      "text/plain": [
       "<folium.folium.Map at 0x7fb300149e10>"
      ]
     },
     "execution_count": 19,
     "metadata": {},
     "output_type": "execute_result"
    }
   ],
   "source": [
    "map_city = folium.Map(location=(40.7142700, -74.0059700), zoom_start=12)\n",
    "map_city"
   ]
  },
  {
   "cell_type": "code",
   "execution_count": 20,
   "metadata": {},
   "outputs": [
    {
     "ename": "NameError",
     "evalue": "name 'coordinates_comp' is not defined",
     "output_type": "error",
     "traceback": [
      "\u001b[0;31m---------------------------------------------------------------------------\u001b[0m",
      "\u001b[0;31mNameError\u001b[0m                                 Traceback (most recent call last)",
      "\u001b[0;32m<ipython-input-20-f229a9cc8bb0>\u001b[0m in \u001b[0;36m<module>\u001b[0;34m()\u001b[0m\n\u001b[0;32m----> 1\u001b[0;31m \u001b[0;32mfor\u001b[0m \u001b[0me\u001b[0m \u001b[0;32min\u001b[0m \u001b[0mcoordinates_comp\u001b[0m\u001b[0;34m:\u001b[0m\u001b[0;34m\u001b[0m\u001b[0;34m\u001b[0m\u001b[0m\n\u001b[0m\u001b[1;32m      2\u001b[0m     folium.Marker(e, radius=2,\n\u001b[1;32m      3\u001b[0m                     \u001b[0micon\u001b[0m\u001b[0;34m=\u001b[0m\u001b[0mfolium\u001b[0m\u001b[0;34m.\u001b[0m\u001b[0mIcon\u001b[0m\u001b[0;34m(\u001b[0m\u001b[0mprefix\u001b[0m\u001b[0;34m=\u001b[0m\u001b[0;34m'fa'\u001b[0m\u001b[0;34m,\u001b[0m\u001b[0micon\u001b[0m\u001b[0;34m=\u001b[0m\u001b[0;34m'cloud'\u001b[0m\u001b[0;34m,\u001b[0m\u001b[0mcolor\u001b[0m\u001b[0;34m=\u001b[0m\u001b[0;34m'red'\u001b[0m\u001b[0;34m)\u001b[0m\u001b[0;34m,\u001b[0m\u001b[0;34m\u001b[0m\u001b[0;34m\u001b[0m\u001b[0m\n\u001b[1;32m      4\u001b[0m                    ).add_to(map_city)\n",
      "\u001b[0;31mNameError\u001b[0m: name 'coordinates_comp' is not defined"
     ]
    }
   ],
   "source": [
    "for e in coordinates_comp:\n",
    "    folium.Marker(e, radius=2,\n",
    "                    icon=folium.Icon(prefix='fa',icon='cloud',color='red'), \n",
    "                   ).add_to(map_city)"
   ]
  },
  {
   "cell_type": "code",
   "execution_count": null,
   "metadata": {},
   "outputs": [],
   "source": [
    "map_city"
   ]
  },
  {
   "cell_type": "code",
   "execution_count": null,
   "metadata": {},
   "outputs": [],
   "source": [
    "companies_df[:12]"
   ]
  }
 ],
 "metadata": {
  "kernelspec": {
   "display_name": "Python 3",
   "language": "python",
   "name": "python3"
  },
  "language_info": {
   "codemirror_mode": {
    "name": "ipython",
    "version": 3
   },
   "file_extension": ".py",
   "mimetype": "text/x-python",
   "name": "python",
   "nbconvert_exporter": "python",
   "pygments_lexer": "ipython3",
   "version": "3.7.5rc1"
  }
 },
 "nbformat": 4,
 "nbformat_minor": 2
}
